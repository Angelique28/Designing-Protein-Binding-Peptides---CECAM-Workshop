{
  "nbformat": 4,
  "nbformat_minor": 0,
  "metadata": {
    "colab": {
      "provenance": [],
      "gpuType": "T4",
      "include_colab_link": true
    },
    "kernelspec": {
      "name": "python3",
      "display_name": "Python 3"
    },
    "language_info": {
      "name": "python"
    },
    "accelerator": "GPU"
  },
  "cells": [
    {
      "cell_type": "markdown",
      "metadata": {
        "id": "view-in-github",
        "colab_type": "text"
      },
      "source": [
        "<a href=\"https://colab.research.google.com/github/Angelique28/Designing-Protein-Binding-Peptides---CECAM-Workshop/blob/main/notebooks/4_Peptide_Generation.ipynb\" target=\"_parent\"><img src=\"https://colab.research.google.com/assets/colab-badge.svg\" alt=\"Open In Colab\"/></a>"
      ]
    },
    {
      "cell_type": "markdown",
      "source": [
        "# Workshop Notebook 4: Generating Candidate Peptides (25 min)\n",
        "\n",
        "In this notebook, we will:\n",
        "\n",
        "1. Convert backbones into sequences with ProteinMPNN and ESM-IF1.\n",
        "2. Filter and inspect candidate peptides for downstream evaluation.\n"
      ],
      "metadata": {
        "id": "_pwYlSWHcbL2"
      }
    },
    {
      "cell_type": "code",
      "source": [
        "%%time\n",
        "#@title **Set up our environment (~3 mins)**\n",
        "#@markdown Please execute this cell by pressing the *Play* button on\n",
        "#@markdown the left.\n",
        "\n",
        "#@markdown > ⚠️⚠️⚠️No Module named **numpy.rec** or ValueError: **dtype header** changed? Click Runtime > Restart Session!\n",
        "\n",
        "import os, time, signal\n",
        "import sys, random, string, re\n",
        "from pathlib import Path\n",
        "from google.colab import drive\n",
        "\n",
        "\n",
        "### START ESM-IF1 Install\n",
        "# Install biotite\n",
        "!pip install -q biotite==0.41.1\n",
        "\n",
        "\n",
        "# Install the correct version of Pytorch Geometric.\n",
        "import torch\n",
        "if not torch.cuda.is_available():\n",
        "    print(\"⚠️ Warning: GPU runtime not detected. Please go to Runtime > Change runtime type > select GPU.\")\n",
        "else:\n",
        "    print(\"✅ GPU detected:\", torch.cuda.get_device_name(0))\n",
        "\n",
        "def format_pytorch_version(version):\n",
        "  return version.split('+')[0]\n",
        "\n",
        "TORCH_version = torch.__version__\n",
        "TORCH = format_pytorch_version(TORCH_version)\n",
        "\n",
        "def format_cuda_version(version):\n",
        "  return 'cu' + version.replace('.', '')\n",
        "\n",
        "CUDA_version = torch.version.cuda\n",
        "CUDA = format_cuda_version(CUDA_version)\n",
        "\n",
        "!pip install biopython\n",
        "!pip install -q torch-scatter -f https://data.pyg.org/whl/torch-{TORCH}+{CUDA}.html\n",
        "!pip install -q torch-sparse -f https://data.pyg.org/whl/torch-{TORCH}+{CUDA}.html\n",
        "!pip install -q torch-cluster -f https://data.pyg.org/whl/torch-{TORCH}+{CUDA}.html\n",
        "!pip install -q torch-spline-conv -f https://data.pyg.org/whl/torch-{TORCH}+{CUDA}.html\n",
        "!pip install -q torch-geometric\n",
        "\n",
        "# Install esm\n",
        "!pip install -q git+https://github.com/facebookresearch/esm.git\n",
        "!sed -i 's|from biotite.structure import filter_backbone|from biotite.structure import filter_peptide_backbone as filter_backbone|' /usr/local/lib/python3.12/dist-packages/esm/inverse_folding/util.py\n",
        "\n",
        "### END ESM-IF1 Install\n",
        "\n",
        "\n",
        "if not os.path.isdir(\"colabdesign\"):\n",
        "  print(\"installing ColabDesign...\")\n",
        "  os.system(\"pip -q install git+https://github.com/sokrypton/ColabDesign.git\")\n",
        "  os.system(\"ln -s /usr/local/lib/python3.*/dist-packages/colabdesign colabdesign\")\n",
        "\n",
        "\n",
        "from google.colab import files\n",
        "import json\n",
        "import numpy as np\n",
        "import matplotlib.pyplot as plt\n",
        "from IPython.display import display, HTML\n",
        "import ipywidgets as widgets\n",
        "import py3Dmol\n",
        "import hashlib\n",
        "import uuid\n",
        "\n",
        "from colabdesign.shared.protein import pdb_to_string\n",
        "from colabdesign.shared.plot import plot_pseudo_3D\n",
        "\n",
        "from Bio.Seq import Seq\n",
        "from Bio.SeqRecord import SeqRecord\n",
        "from Bio import SeqIO\n",
        "\n",
        "from typing import Iterable, Tuple, List\n",
        "import re\n",
        "\n",
        "def write_sequences(sequences: list[str],\n",
        "                    model_id: str,\n",
        "                    path: Path\n",
        "                    ):\n",
        "  records = []\n",
        "  for seq in sequences:\n",
        "    ident = f'{model_id}_{(hashlib.sha1(seq.encode()).hexdigest())[:7]}'\n",
        "    rec = SeqRecord(Seq(str(seq)), id=ident, description=\"\")\n",
        "    records.append(rec)\n",
        "\n",
        "  out_path = path / f'{str(uuid.uuid4())}.fasta'\n",
        "  return SeqIO.write(records, out_path, \"fasta\")"
      ],
      "metadata": {
        "id": "nZXbaA01ce8l",
        "cellView": "form",
        "outputId": "002d1e6b-6f15-420e-c58d-6b17fdb0d827",
        "colab": {
          "base_uri": "https://localhost:8080/"
        }
      },
      "execution_count": 1,
      "outputs": [
        {
          "output_type": "stream",
          "name": "stdout",
          "text": [
            "✅ GPU detected: Tesla T4\n",
            "Requirement already satisfied: biopython in /usr/local/lib/python3.12/dist-packages (1.85)\n",
            "Requirement already satisfied: numpy in /usr/local/lib/python3.12/dist-packages (from biopython) (1.26.4)\n",
            "  Installing build dependencies ... \u001b[?25l\u001b[?25hdone\n",
            "  Getting requirements to build wheel ... \u001b[?25l\u001b[?25hdone\n",
            "  Preparing metadata (pyproject.toml) ... \u001b[?25l\u001b[?25hdone\n",
            "CPU times: user 22.8 s, sys: 3.47 s, total: 26.3 s\n",
            "Wall time: 59.8 s\n"
          ]
        }
      ]
    },
    {
      "cell_type": "code",
      "source": [
        "#@title **Set up our Paths and mount a Google Drive folder**\n",
        "\n",
        "#@markdown We will set a project ID so that we can keep separate executions separated, and a step ID so that we can keep the outputs of each step separate\n",
        "PROJECT_ID = \"MDM2\" #@param {type:\"string\"}\n",
        "STEP_ID = \"4\"\n",
        "\n",
        "#@markdown We will use Google Drive mounts for persistence between multiple notebooks in this tutorial.\n",
        "\n",
        "#@markdown Log in with your Google account and give permissions to access the drive.\n",
        "WORKSHOP_DIRECTORY = Path('/content/drive/MyDrive/cecam_workshop_2025_generative')\n",
        "drive.mount(str(WORKSHOP_DIRECTORY.parent.parent))\n",
        "STEP_PATH = WORKSHOP_DIRECTORY / 'projects' / PROJECT_ID / STEP_ID\n",
        "STEP_PATH.mkdir(exist_ok = True, parents = True)"
      ],
      "metadata": {
        "id": "IK5clSiNe7wU",
        "cellView": "form",
        "outputId": "2fe42903-e0c6-4b02-c11f-a487bd6b29e9",
        "colab": {
          "base_uri": "https://localhost:8080/"
        }
      },
      "execution_count": 2,
      "outputs": [
        {
          "output_type": "stream",
          "name": "stdout",
          "text": [
            "Mounted at /content/drive\n"
          ]
        }
      ]
    },
    {
      "cell_type": "markdown",
      "source": [
        "## Convert Backbones into Peptide Sequences\n",
        "We use two models:\n",
        "1. ProteinMPNN\n",
        "2. ESM-IF1\n",
        "\n",
        "This gives us diverse candidate sequences for each backbone.\n",
        "\n",
        "Each model can produce `num_seqs >= 1` sequences for a given backbone.\n",
        "> Each backbone now has two sequence variants. We can now inspect and filter them before co-folding with MDM2.\n"
      ],
      "metadata": {
        "id": "C4O9elQe_rU6"
      }
    },
    {
      "cell_type": "code",
      "source": [
        "#@title run **ProteinMPNN** to generate sequences\n",
        "#@markdown ### ProteinMPNN Settings\n",
        "\n",
        "#@markdown Define how many sequences you want to generate for each of the backbones\n",
        "num_seqs = 4 #@param [\"1\", \"2\", \"4\", \"8\", \"16\", \"32\", \"64\"] {type:\"raw\"}\n",
        "#@markdown ---\n",
        "peptide_chain = 'B' #@param {type:\"string\"}\n",
        "#@markdown ---\n",
        "\n",
        "#@markdown A higher sampling temperature will result in more diverse sequences\n",
        "mpnn_sampling_temp = 0.5 #@param [\"0.0001\", \"0.1\", \"0.15\", \"0.2\", \"0.25\", \"0.3\", \"0.5\", \"0.75\", \"1.0\"] {type:\"raw\"}\n",
        "\n",
        "#@markdown ---\n",
        "rm_aa = \"C\" #@param {type:\"string\"}\n",
        "#@markdown ---\n",
        "use_solubleMPNN = True #@param {type:\"boolean\"}\n",
        "\n",
        "from colabdesign.mpnn import mk_mpnn_model\n",
        "\n",
        "if rm_aa == \"\":\n",
        "  rm_aa = None\n",
        "\n",
        "batch_size = 8\n",
        "if num_seqs < batch_size:\n",
        "  batch_size = num_seqs\n",
        "\n",
        "print(\"running proteinMPNN...\")\n",
        "sampling_temp = mpnn_sampling_temp\n",
        "mpnn_model = mk_mpnn_model(weights=\"soluble\" if use_solubleMPNN else \"original\")\n",
        "outs = []\n",
        "full_path = STEP_PATH.parent / '3' / 'rfdiffusion_outputs'\n",
        "for pdb_filename in list(full_path.glob('*.pdb')):\n",
        "  mpnn_model.prep_inputs(str(pdb_filename),\n",
        "                         rm_aa = rm_aa,\n",
        "                         chain = peptide_chain,\n",
        "                         )\n",
        "  outs.append(mpnn_model.sample(num=num_seqs//batch_size, batch=batch_size, temperature=sampling_temp))\n",
        "\n",
        "seqs = []\n",
        "for out in outs:\n",
        "  for sampled_seq in out['seq']:\n",
        "    seqs.append(sampled_seq)\n",
        "    print('Sampled sequence:', sampled_seq)\n",
        "\n",
        "write_sequences(seqs,\n",
        "                model_id = 'rfp',\n",
        "                path = STEP_PATH.parent / 'sequences'\n",
        "                )"
      ],
      "metadata": {
        "id": "CMy8eFVuxuXu",
        "cellView": "form",
        "outputId": "10b1cf9c-9b05-4186-b9c3-0d6c7165d057",
        "colab": {
          "base_uri": "https://localhost:8080/"
        }
      },
      "execution_count": 3,
      "outputs": [
        {
          "output_type": "stream",
          "name": "stdout",
          "text": [
            "running proteinMPNN...\n",
            "Sampled sequence: REEMERRGSQ\n",
            "Sampled sequence: EEAARQERAR\n",
            "Sampled sequence: AEEVARRHAQ\n",
            "Sampled sequence: QEETQRERAK\n",
            "Sampled sequence: SSHWLQTLQS\n",
            "Sampled sequence: TDVTREAEAQ\n",
            "Sampled sequence: SATKREAAER\n",
            "Sampled sequence: TEQEERERLS\n",
            "Sampled sequence: EEQQRLREKE\n",
            "Sampled sequence: ASQKLEESTR\n",
            "Sampled sequence: VDEELRKQQQ\n",
            "Sampled sequence: EEALYDVKTS\n",
            "Sampled sequence: EEERRKAGLA\n",
            "Sampled sequence: KEKIEREKQK\n",
            "Sampled sequence: KEEENQAKVT\n",
            "Sampled sequence: KLEIIRQLLK\n"
          ]
        },
        {
          "output_type": "execute_result",
          "data": {
            "text/plain": [
              "16"
            ]
          },
          "metadata": {},
          "execution_count": 3
        }
      ]
    },
    {
      "cell_type": "code",
      "source": [
        "#@title run **ESM-IF1** to generate sequences\n",
        "#@markdown ### ESM-IF1 Settings\n",
        "\n",
        "#@markdown Define how many sequences you want to generate for each of the backbones\n",
        "\n",
        "num_seqs_esm = 4 #@param [\"1\", \"2\", \"4\", \"8\", \"16\", \"32\", \"64\"] {type:\"raw\"}\n",
        "#@markdown ---\n",
        "peptide_chain_esm = 'B' #@param {type:\"string\"}\n",
        "#@markdown ---\n",
        "\n",
        "#@markdown A higher sampling temperature will result in more diverse sequences\n",
        "\n",
        "esm1_sampling_temp = 1.0 #@param [\"0.1\", \"0.15\", \"0.2\", \"0.25\", \"0.3\", \"0.5\", \"0.75\", \"1.0\"] {type:\"raw\"}\n",
        "\n",
        "import esm.inverse_folding\n",
        "import esm\n",
        "model, alphabet = esm.pretrained.esm_if1_gvp4_t16_142M_UR50()\n",
        "model = model.eval()\n",
        "\n",
        "print(\"running ESM-IF1...\")\n",
        "seqs = []\n",
        "full_path = STEP_PATH.parent / '3' / 'rfdiffusion_outputs'\n",
        "\n",
        "for pdb_filename in list(full_path.glob('*.pdb')):\n",
        "  structure = esm.inverse_folding.util.load_structure(str(pdb_filename), peptide_chain_esm)\n",
        "  coords, native_seq = esm.inverse_folding.util.extract_coords_from_structure(structure)\n",
        "  for _ in range(num_seqs_esm):\n",
        "    sampled_seq = model.sample(coords, temperature=esm1_sampling_temp)\n",
        "    print('Sampled sequence:', sampled_seq)\n",
        "    seqs.append(sampled_seq)\n",
        "\n",
        "write_sequences(seqs,\n",
        "                model_id = 'rfe',\n",
        "                path = STEP_PATH.parent / 'sequences'\n",
        "                )"
      ],
      "metadata": {
        "id": "cJ0g8Fh7CN6X",
        "cellView": "form",
        "outputId": "dfbdc83a-7d91-404f-df18-288f034f047c",
        "colab": {
          "base_uri": "https://localhost:8080/"
        }
      },
      "execution_count": 4,
      "outputs": [
        {
          "output_type": "stream",
          "name": "stdout",
          "text": [
            "Downloading: \"https://dl.fbaipublicfiles.com/fair-esm/models/esm_if1_gvp4_t16_142M_UR50.pt\" to /root/.cache/torch/hub/checkpoints/esm_if1_gvp4_t16_142M_UR50.pt\n"
          ]
        },
        {
          "output_type": "stream",
          "name": "stderr",
          "text": [
            "/usr/local/lib/python3.12/dist-packages/esm/pretrained.py:215: UserWarning: Regression weights not found, predicting contacts will not produce correct results.\n",
            "  warnings.warn(\n",
            "/usr/local/lib/python3.12/dist-packages/biotite/structure/io/pdb/file.py:468: UserWarning: 452 elements were guessed from atom name\n",
            "  warnings.warn(\n"
          ]
        },
        {
          "output_type": "stream",
          "name": "stdout",
          "text": [
            "running ESM-IF1...\n",
            "Sampled sequence: PDFGAMLAQF\n",
            "Sampled sequence: MMLIAVEALI\n",
            "Sampled sequence: PEQQDWNDRR\n",
            "Sampled sequence: PSEVLSLLEE\n",
            "Sampled sequence: DLARAVGIAE\n",
            "Sampled sequence: ALLLAILIVV\n",
            "Sampled sequence: SYAAAVAIWS\n",
            "Sampled sequence: QIENNMHQAI\n",
            "Sampled sequence: LVAFLQARAG\n",
            "Sampled sequence: ASAQIEKLYD\n",
            "Sampled sequence: SLNALWQQQQ\n",
            "Sampled sequence: NIEKVIAAFR\n",
            "Sampled sequence: AFGAAVSQLG\n",
            "Sampled sequence: MAVHAVDQLH\n",
            "Sampled sequence: MLFDVLKQMK\n",
            "Sampled sequence: AIRALIARLQ\n"
          ]
        },
        {
          "output_type": "execute_result",
          "data": {
            "text/plain": [
              "16"
            ]
          },
          "metadata": {},
          "execution_count": 4
        }
      ]
    },
    {
      "cell_type": "markdown",
      "source": [
        "### Notebook Summary\n",
        "- Designed sequences for each backbone using ProteinMPNN and ESM-IF1.\n",
        "\n",
        "➡️ Next: In Notebook 5, we will co-fold these peptide candidates with MDM2 using Boltz-2 and evaluate binding metrics.\n"
      ],
      "metadata": {
        "id": "4bfzVdDpAKid"
      }
    }
  ]
}