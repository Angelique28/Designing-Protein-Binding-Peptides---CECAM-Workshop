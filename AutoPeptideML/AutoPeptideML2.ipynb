{
  "cells": [
    {
      "cell_type": "markdown",
      "id": "d6b443ad",
      "metadata": {
        "id": "d6b443ad"
      },
      "source": [
        "# Introduction\n",
        "\n",
        "This notebook shows how to use AutoPeptideML from its Python interface. Please, look at the upper right corner of the notebook and click on the three dots that say Connect. From there choose the option to 'Change runtime' and select T4 GPU runtime to get GPU acceleration. Otherwise, the notebook might take longer."
      ]
    },
    {
      "cell_type": "markdown",
      "id": "f85f246e",
      "metadata": {
        "id": "f85f246e"
      },
      "source": [
        "### 1. Prepare environment\n",
        "\n",
        "We start by setting up the environment by installing AutoPeptideML and its dependencies"
      ]
    },
    {
      "cell_type": "code",
      "execution_count": 1,
      "id": "069b1ba2",
      "metadata": {
        "id": "069b1ba2",
        "outputId": "dd405f57-4bc0-4650-b9a3-8295ae6e1b91",
        "colab": {
          "base_uri": "https://localhost:8080/"
        }
      },
      "outputs": [
        {
          "output_type": "stream",
          "name": "stdout",
          "text": [
            "  Preparing metadata (setup.py) ... \u001b[?25l\u001b[?25hdone\n",
            "\u001b[31mERROR: pip's dependency resolver does not currently take into account all the packages that are installed. This behaviour is the source of the following dependency conflicts.\n",
            "gensim 4.3.3 requires numpy<2.0,>=1.18.5, but you have numpy 2.2.6 which is incompatible.\n",
            "tsfresh 0.21.0 requires scipy>=1.14.0; python_version >= \"3.10\", but you have scipy 1.13.1 which is incompatible.\n",
            "tensorflow 2.19.0 requires numpy<2.2.0,>=1.26.0, but you have numpy 2.2.6 which is incompatible.\n",
            "numba 0.60.0 requires numpy<2.1,>=1.22, but you have numpy 2.2.6 which is incompatible.\u001b[0m\u001b[31m\n",
            "\u001b[0m\u001b[31mERROR: pip's dependency resolver does not currently take into account all the packages that are installed. This behaviour is the source of the following dependency conflicts.\n",
            "opencv-contrib-python 4.12.0.88 requires numpy<2.3.0,>=2; python_version >= \"3.9\", but you have numpy 1.26.4 which is incompatible.\n",
            "thinc 8.3.6 requires numpy<3.0.0,>=2.0.0, but you have numpy 1.26.4 which is incompatible.\n",
            "opencv-python-headless 4.12.0.88 requires numpy<2.3.0,>=2; python_version >= \"3.9\", but you have numpy 1.26.4 which is incompatible.\n",
            "opencv-python 4.12.0.88 requires numpy<2.3.0,>=2; python_version >= \"3.9\", but you have numpy 1.26.4 which is incompatible.\n",
            "tsfresh 0.21.0 requires scipy>=1.14.0; python_version >= \"3.10\", but you have scipy 1.13.1 which is incompatible.\u001b[0m\u001b[31m\n",
            "\u001b[0m"
          ]
        }
      ],
      "source": [
        "!pip install git+https://github.com/IBM/AutoPeptideML --quiet\n",
        "!pip install smilespe --quiet"
      ]
    },
    {
      "cell_type": "code",
      "execution_count": 2,
      "id": "a905c2b4",
      "metadata": {
        "id": "a905c2b4",
        "outputId": "b22a760e-f03a-4ef9-8273-6db7a836a9d1",
        "colab": {
          "base_uri": "https://localhost:8080/"
        }
      },
      "outputs": [
        {
          "output_type": "stream",
          "name": "stdout",
          "text": [
            "--2025-09-02 07:57:01--  https://raw.githubusercontent.com/IBM/PeptideGeneralizationBenchmarks/refs/heads/main/downstream_data/nc-antiviral.csv\n",
            "Resolving raw.githubusercontent.com (raw.githubusercontent.com)... 185.199.108.133, 185.199.109.133, 185.199.110.133, ...\n",
            "Connecting to raw.githubusercontent.com (raw.githubusercontent.com)|185.199.108.133|:443... connected.\n",
            "HTTP request sent, awaiting response... 200 OK\n",
            "Length: 146359 (143K) [text/plain]\n",
            "Saving to: ‘nc-antiviral.csv.2’\n",
            "\n",
            "\rnc-antiviral.csv.2    0%[                    ]       0  --.-KB/s               \rnc-antiviral.csv.2  100%[===================>] 142.93K  --.-KB/s    in 0.03s   \n",
            "\n",
            "2025-09-02 07:57:02 (4.57 MB/s) - ‘nc-antiviral.csv.2’ saved [146359/146359]\n",
            "\n",
            "--2025-09-02 07:57:02--  https://raw.githubusercontent.com/IBM/PeptideGeneralizationBenchmarks/refs/heads/main/downstream_data/c-antiviral.csv\n",
            "Resolving raw.githubusercontent.com (raw.githubusercontent.com)... 185.199.108.133, 185.199.109.133, 185.199.110.133, ...\n",
            "Connecting to raw.githubusercontent.com (raw.githubusercontent.com)|185.199.108.133|:443... connected.\n",
            "HTTP request sent, awaiting response... 200 OK\n",
            "Length: 2048803 (2.0M) [text/plain]\n",
            "Saving to: ‘c-antiviral.csv.2’\n",
            "\n",
            "c-antiviral.csv.2   100%[===================>]   1.95M  --.-KB/s    in 0.07s   \n",
            "\n",
            "2025-09-02 07:57:02 (28.4 MB/s) - ‘c-antiviral.csv.2’ saved [2048803/2048803]\n",
            "\n"
          ]
        }
      ],
      "source": [
        "!wget https://raw.githubusercontent.com/IBM/PeptideGeneralizationBenchmarks/refs/heads/main/downstream_data/nc-antiviral.csv\n",
        "!wget https://raw.githubusercontent.com/IBM/PeptideGeneralizationBenchmarks/refs/heads/main/downstream_data/c-antiviral.csv"
      ]
    },
    {
      "cell_type": "markdown",
      "id": "04c8ab73",
      "metadata": {
        "id": "04c8ab73"
      },
      "source": [
        "After this step the notebook might crash, that's fine, see instructions in the following cell"
      ]
    },
    {
      "cell_type": "code",
      "execution_count": 3,
      "id": "d4f317c8",
      "metadata": {
        "id": "d4f317c8",
        "outputId": "29ffe9d9-c4d8-4599-ae58-3cd2612ba6ba",
        "colab": {
          "base_uri": "https://localhost:8080/",
          "height": 460
        }
      },
      "outputs": [
        {
          "output_type": "stream",
          "name": "stdout",
          "text": [
            "Requirement already satisfied: numpy in /usr/local/lib/python3.12/dist-packages (1.26.4)\n",
            "Collecting numpy\n",
            "  Using cached numpy-2.3.2-cp312-cp312-manylinux_2_27_x86_64.manylinux_2_28_x86_64.whl.metadata (62 kB)\n",
            "Using cached numpy-2.3.2-cp312-cp312-manylinux_2_27_x86_64.manylinux_2_28_x86_64.whl (16.6 MB)\n",
            "Installing collected packages: numpy\n",
            "  Attempting uninstall: numpy\n",
            "    Found existing installation: numpy 1.26.4\n",
            "    Uninstalling numpy-1.26.4:\n",
            "      Successfully uninstalled numpy-1.26.4\n",
            "\u001b[31mERROR: pip's dependency resolver does not currently take into account all the packages that are installed. This behaviour is the source of the following dependency conflicts.\n",
            "scipy 1.13.1 requires numpy<2.3,>=1.22.4, but you have numpy 2.3.2 which is incompatible.\n",
            "gensim 4.3.3 requires numpy<2.0,>=1.18.5, but you have numpy 2.3.2 which is incompatible.\n",
            "opencv-contrib-python 4.12.0.88 requires numpy<2.3.0,>=2; python_version >= \"3.9\", but you have numpy 2.3.2 which is incompatible.\n",
            "cupy-cuda12x 13.3.0 requires numpy<2.3,>=1.22, but you have numpy 2.3.2 which is incompatible.\n",
            "opencv-python-headless 4.12.0.88 requires numpy<2.3.0,>=2; python_version >= \"3.9\", but you have numpy 2.3.2 which is incompatible.\n",
            "opencv-python 4.12.0.88 requires numpy<2.3.0,>=2; python_version >= \"3.9\", but you have numpy 2.3.2 which is incompatible.\n",
            "tsfresh 0.21.0 requires scipy>=1.14.0; python_version >= \"3.10\", but you have scipy 1.13.1 which is incompatible.\n",
            "tensorflow 2.19.0 requires numpy<2.2.0,>=1.26.0, but you have numpy 2.3.2 which is incompatible.\n",
            "numba 0.60.0 requires numpy<2.1,>=1.22, but you have numpy 2.3.2 which is incompatible.\u001b[0m\u001b[31m\n",
            "\u001b[0mSuccessfully installed numpy-2.3.2\n"
          ]
        },
        {
          "output_type": "display_data",
          "data": {
            "application/vnd.colab-display-data+json": {
              "pip_warning": {
                "packages": [
                  "numpy"
                ]
              },
              "id": "08d091d998ec4bffaab2f54ca8b38dcf"
            }
          },
          "metadata": {}
        }
      ],
      "source": [
        "!pip install numpy -U"
      ]
    },
    {
      "cell_type": "markdown",
      "id": "cb1f599c",
      "metadata": {
        "id": "cb1f599c"
      },
      "source": [
        "The notebook might have crashed in the previous step, if so, please just continue executing from this cell on. Do not 'Run All', nor repeat the previous step as it will crash again."
      ]
    },
    {
      "cell_type": "markdown",
      "id": "2f8002fc",
      "metadata": {
        "id": "2f8002fc"
      },
      "source": [
        "### 2. Loading data and Initializing AutoPeptideML\n",
        "\n",
        "First, take a look at the preprocessing pipelines that will be applied to the data.\n",
        "\n",
        "The `to-smiles` pipeline takes peptide sequences and trasnforms them into canonical SMILES according to the RDKit algorithm.\n",
        "\n",
        "The `to-sequences` pipeline takes peptide SMILES and transforms them into sequences of canonical amino acids. If a non-canonical amino acid was present in the sequence is transformed into its natural analog. If none is available it transforms it into the `X` residue."
      ]
    },
    {
      "cell_type": "code",
      "execution_count": 4,
      "id": "d0bf31ce",
      "metadata": {
        "id": "d0bf31ce",
        "outputId": "43633ff0-cdd5-4e71-9106-005022cc1de8",
        "colab": {
          "base_uri": "https://localhost:8080/"
        }
      },
      "outputs": [
        {
          "output_type": "stream",
          "name": "stderr",
          "text": [
            "/usr/local/lib/python3.12/dist-packages/hestia/similarity.py:12: UserWarning: A NumPy version >=1.22.4 and <2.3.0 is required for this version of SciPy (detected version 2.3.2)\n",
            "  import scipy.sparse as spr\n"
          ]
        },
        {
          "output_type": "stream",
          "name": "stdout",
          "text": [
            "to-smiles\n",
            "->  to-smiles-1\n",
            "->  ->  to-smiles-1a\n",
            "->  ->  ->  filter-smiles -> keep_smiles: False\n",
            "->  ->  ->  canonical-cleaner -> substitution: G\n",
            "->  ->  ->  sequence-to-smiles\n",
            "->  ->  \n",
            "->  ->  to-smiles-1b\n",
            "->  ->  ->  filter-smiles -> keep_smiles: True\n",
            "->  ->  \n",
            "->  aggregate\n",
            "->  canonicalize-smiles\n",
            "\n"
          ]
        }
      ],
      "source": [
        "from autopeptideml.pipeline import get_pipeline\n",
        "\n",
        "to_smiles = get_pipeline('to-smiles')\n",
        "print(to_smiles)"
      ]
    },
    {
      "cell_type": "code",
      "source": [
        "!pip install numpy"
      ],
      "metadata": {
        "id": "yAAhRb5fbAhI",
        "outputId": "f83310ec-b3bf-4beb-c661-506cbbf8108a",
        "colab": {
          "base_uri": "https://localhost:8080/"
        }
      },
      "id": "yAAhRb5fbAhI",
      "execution_count": 15,
      "outputs": [
        {
          "output_type": "stream",
          "name": "stdout",
          "text": [
            "Requirement already satisfied: numpy in /usr/local/lib/python3.12/dist-packages (2.3.2)\n"
          ]
        }
      ]
    },
    {
      "cell_type": "code",
      "execution_count": 5,
      "id": "304c57fd",
      "metadata": {
        "id": "304c57fd",
        "outputId": "69235325-5611-4465-81cd-d147787cccb0",
        "colab": {
          "base_uri": "https://localhost:8080/"
        }
      },
      "outputs": [
        {
          "output_type": "stream",
          "name": "stdout",
          "text": [
            "to-sequences\n",
            "->  to-sequences-1\n",
            "->  ->  to-sequences-1a\n",
            "->  ->  ->  filter-smiles -> keep_smiles: False\n",
            "->  ->  \n",
            "->  ->  to-sequences-1b\n",
            "->  ->  ->  filter-smiles -> keep_smiles: True\n",
            "->  ->  ->  smiles-to-sequence\n",
            "->  ->  \n",
            "->  aggregate\n",
            "->  canonical-cleaner -> substitution: X\n",
            "\n"
          ]
        }
      ],
      "source": [
        "to_sequences = get_pipeline('to-sequences')\n",
        "print(to_sequences)"
      ]
    },
    {
      "cell_type": "markdown",
      "id": "78ff7930",
      "metadata": {
        "id": "78ff7930"
      },
      "source": [
        "\n",
        "We define the dataset that we are going to use to build our model. There are three options:\n",
        "\n",
        "1. Training on natural (or canonical) peptides\n",
        "2. Training on modified (or non-canonical) peptides\n",
        "3. Training on a combination thereof\n",
        "\n",
        "Uncomment the code from the option you're interested in trying"
      ]
    },
    {
      "cell_type": "code",
      "execution_count": 6,
      "id": "1bec09c5",
      "metadata": {
        "id": "1bec09c5"
      },
      "outputs": [],
      "source": [
        "import pandas as pd\n",
        "from autopeptideml import AutoPeptideML\n",
        "\n",
        "# Option 1 - Natural peptides\n",
        "df = pd.read_csv('c-antiviral.csv')\n",
        "df = df[df['labels'] == 1].sample(500, random_state=1)\n",
        "db = 'canonical'\n",
        "all_inputs = df['sequence'].tolist()\n",
        "\n",
        "# # Option 2 - Modified peptides\n",
        "# df2 = pd.read_csv('nc-antiviral.csv')\n",
        "# df2 = df2[df2['labels'] == 1]\n",
        "# db = 'non-canonical'\n",
        "# all_inputs = df2['SMILES'].tolist()\n",
        "\n",
        "# # Option 3 - Both\n",
        "# df = pd.read_csv('c-antiviral.csv')\n",
        "# df = df[df['labels'] == 1].sample(250, random_state=1)\n",
        "# df2 = pd.read_csv('nc-antiviral.csv')\n",
        "# df2 = df2[df2['labels'] == 1]\n",
        "# db = 'both'\n",
        "# all_inputs = df['sequence'].tolist() + df2['SMILES'].tolist()\n",
        "\n",
        "# Initialise AutoPeptideML\n",
        "apml = AutoPeptideML(\n",
        "    data=all_inputs,\n",
        "    outputdir='demo'\n",
        ")"
      ]
    },
    {
      "cell_type": "markdown",
      "id": "3ed4bf77",
      "metadata": {
        "id": "3ed4bf77"
      },
      "source": [
        "The original dataset does not have any negative peptides"
      ]
    },
    {
      "cell_type": "code",
      "execution_count": 7,
      "id": "a68c3722",
      "metadata": {
        "id": "a68c3722",
        "outputId": "89bc0e4f-5a41-40c0-a801-3fba4de2a15f",
        "colab": {
          "base_uri": "https://localhost:8080/",
          "height": 147
        }
      },
      "outputs": [
        {
          "output_type": "execute_result",
          "data": {
            "text/plain": [
              "label\n",
              "1    500\n",
              "Name: count, dtype: int64"
            ],
            "text/html": [
              "<div>\n",
              "<style scoped>\n",
              "    .dataframe tbody tr th:only-of-type {\n",
              "        vertical-align: middle;\n",
              "    }\n",
              "\n",
              "    .dataframe tbody tr th {\n",
              "        vertical-align: top;\n",
              "    }\n",
              "\n",
              "    .dataframe thead th {\n",
              "        text-align: right;\n",
              "    }\n",
              "</style>\n",
              "<table border=\"1\" class=\"dataframe\">\n",
              "  <thead>\n",
              "    <tr style=\"text-align: right;\">\n",
              "      <th></th>\n",
              "      <th>count</th>\n",
              "    </tr>\n",
              "    <tr>\n",
              "      <th>label</th>\n",
              "      <th></th>\n",
              "    </tr>\n",
              "  </thead>\n",
              "  <tbody>\n",
              "    <tr>\n",
              "      <th>1</th>\n",
              "      <td>500</td>\n",
              "    </tr>\n",
              "  </tbody>\n",
              "</table>\n",
              "</div><br><label><b>dtype:</b> int64</label>"
            ]
          },
          "metadata": {},
          "execution_count": 7
        }
      ],
      "source": [
        "# Check distribution of labels\n",
        "apml.df.label.value_counts()"
      ]
    },
    {
      "cell_type": "markdown",
      "id": "89ddff0a",
      "metadata": {
        "id": "89ddff0a"
      },
      "source": [
        "### 2. Automatic negative sampling\n",
        "\n",
        "We sample the negative peptides from the dedicated database, with a proportion of negative/positive equal to `desired_ratio`."
      ]
    },
    {
      "cell_type": "code",
      "execution_count": 8,
      "id": "774c33f5",
      "metadata": {
        "id": "774c33f5",
        "outputId": "9f83c88b-4907-4e1f-cf3d-d39bb38388cf",
        "colab": {
          "base_uri": "https://localhost:8080/"
        }
      },
      "outputs": [
        {
          "output_type": "stream",
          "name": "stdout",
          "text": [
            "Executing preprocessing step 1 of 2: to-smiles-1\n",
            "Executing preprocessing step 1 of 2: to-smiles-1a\n",
            "Executing preprocessing step 1 of 3: filter-smiles\n"
          ]
        },
        {
          "output_type": "stream",
          "name": "stderr",
          "text": [
            "100%|██████████| 500/500 [00:00<00:00, 260kit/s]\n"
          ]
        },
        {
          "output_type": "stream",
          "name": "stdout",
          "text": [
            "Executing preprocessing step 2 of 3: canonical-cleaner\n"
          ]
        },
        {
          "output_type": "stream",
          "name": "stderr",
          "text": [
            "100%|██████████| 500/500 [00:00<00:00, 293kit/s]"
          ]
        },
        {
          "output_type": "stream",
          "name": "stdout",
          "text": [
            "Executing preprocessing step 3 of 3: sequence-to-smiles\n"
          ]
        },
        {
          "output_type": "stream",
          "name": "stderr",
          "text": [
            "\n",
            "100%|██████████| 500/500 [00:01<00:00, 480it/s]\n"
          ]
        },
        {
          "output_type": "stream",
          "name": "stdout",
          "text": [
            "Executing preprocessing step 2 of 2: to-smiles-1b\n",
            "Executing preprocessing step 1 of 1: filter-smiles\n"
          ]
        },
        {
          "output_type": "stream",
          "name": "stderr",
          "text": [
            "100%|██████████| 500/500 [00:00<00:00, 218kit/s]\n"
          ]
        },
        {
          "output_type": "stream",
          "name": "stdout",
          "text": [
            "Executing preprocessing step 2 of 2: canonicalize-smiles\n"
          ]
        },
        {
          "output_type": "stream",
          "name": "stderr",
          "text": [
            "100%|██████████| 500/500 [00:00<00:00, 905it/s]\n"
          ]
        },
        {
          "output_type": "stream",
          "name": "stdout",
          "text": [
            "Executing preprocessing step 1 of 2: to-sequences-1\n",
            "Executing preprocessing step 1 of 2: to-sequences-1a\n",
            "Executing preprocessing step 1 of 1: filter-smiles\n"
          ]
        },
        {
          "output_type": "stream",
          "name": "stderr",
          "text": [
            "100%|██████████| 500/500 [00:00<00:00, 203kit/s]\n"
          ]
        },
        {
          "output_type": "stream",
          "name": "stdout",
          "text": [
            "Executing preprocessing step 2 of 2: to-sequences-1b\n",
            "Executing preprocessing step 1 of 2: filter-smiles\n"
          ]
        },
        {
          "output_type": "stream",
          "name": "stderr",
          "text": [
            "100%|██████████| 500/500 [00:00<00:00, 161kit/s]\n"
          ]
        },
        {
          "output_type": "stream",
          "name": "stdout",
          "text": [
            "Executing preprocessing step 2 of 2: smiles-to-sequence\n",
            "Executing preprocessing step 2 of 2: canonical-cleaner\n"
          ]
        },
        {
          "output_type": "stream",
          "name": "stderr",
          "text": [
            "100%|██████████| 500/500 [00:00<00:00, 255kit/s]\n"
          ]
        },
        {
          "output_type": "stream",
          "name": "stdout",
          "text": [
            "Downloading negative database...\n"
          ]
        }
      ],
      "source": [
        "# Sample negatives\n",
        "apml.sample_negatives(\n",
        "    target_db=db,\n",
        "    activities_to_exclude='Antibacterial',\n",
        "    desired_ratio=1.0,\n",
        "    sample_by='mw',\n",
        "    n_jobs=10\n",
        ")"
      ]
    },
    {
      "cell_type": "markdown",
      "id": "3fc58784",
      "metadata": {
        "id": "3fc58784"
      },
      "source": [
        "Check now the label distribution"
      ]
    },
    {
      "cell_type": "code",
      "execution_count": 9,
      "id": "2652bcb2",
      "metadata": {
        "id": "2652bcb2",
        "outputId": "39eb677a-444d-4981-a35f-72a812d61cbc",
        "colab": {
          "base_uri": "https://localhost:8080/",
          "height": 612
        }
      },
      "outputs": [
        {
          "output_type": "execute_result",
          "data": {
            "text/plain": [
              "label\n",
              "0    500\n",
              "1    500\n",
              "Name: count, dtype: int64"
            ],
            "text/html": [
              "<div>\n",
              "<style scoped>\n",
              "    .dataframe tbody tr th:only-of-type {\n",
              "        vertical-align: middle;\n",
              "    }\n",
              "\n",
              "    .dataframe tbody tr th {\n",
              "        vertical-align: top;\n",
              "    }\n",
              "\n",
              "    .dataframe thead th {\n",
              "        text-align: right;\n",
              "    }\n",
              "</style>\n",
              "<table border=\"1\" class=\"dataframe\">\n",
              "  <thead>\n",
              "    <tr style=\"text-align: right;\">\n",
              "      <th></th>\n",
              "      <th>count</th>\n",
              "    </tr>\n",
              "    <tr>\n",
              "      <th>label</th>\n",
              "      <th></th>\n",
              "    </tr>\n",
              "  </thead>\n",
              "  <tbody>\n",
              "    <tr>\n",
              "      <th>0</th>\n",
              "      <td>500</td>\n",
              "    </tr>\n",
              "    <tr>\n",
              "      <th>1</th>\n",
              "      <td>500</td>\n",
              "    </tr>\n",
              "  </tbody>\n",
              "</table>\n",
              "</div><br><label><b>dtype:</b> int64</label>"
            ]
          },
          "metadata": {},
          "execution_count": 9
        },
        {
          "output_type": "display_data",
          "data": {
            "text/plain": [
              "<Figure size 640x480 with 1 Axes>"
            ],
            "image/png": "[encoded data removed]"
          },
          "metadata": {}
        }
      ],
      "source": [
        "# Check distribution of labels after negative sampling\n",
        "import seaborn as sns\n",
        "\n",
        "sns.histplot(apml.df, x='mw', hue='label', kde=True, alpha=0.5)\n",
        "apml.df.label.value_counts()"
      ]
    },
    {
      "cell_type": "code",
      "execution_count": 10,
      "id": "f97647b2",
      "metadata": {
        "id": "f97647b2",
        "outputId": "5b84281f-3283-40c1-b729-4deb223038ed",
        "colab": {
          "base_uri": "https://localhost:8080/"
        }
      },
      "outputs": [
        {
          "output_type": "execute_result",
          "data": {
            "text/plain": [
              "np.int64(0)"
            ]
          },
          "metadata": {},
          "execution_count": 10
        }
      ],
      "source": [
        "apml.df['apml-seqs'].isna().sum()"
      ]
    },
    {
      "cell_type": "markdown",
      "id": "e5101415",
      "metadata": {
        "id": "e5101415"
      },
      "source": [
        "### 3. Build models\n",
        "\n",
        "Here there are two parameters we can change:\n",
        "\n",
        "1. `split-strategy`: it can be changed from `'min'` to `'random'`\n",
        "2. `sim-args`: are usually defined by default, here we are gonna compare sequence similarity to fingerprint similarity\n",
        "3. `reps`: select the method you would like to try"
      ]
    },
    {
      "cell_type": "code",
      "execution_count": 11,
      "id": "5d4a5811",
      "metadata": {
        "id": "5d4a5811",
        "outputId": "a2d93c33-0d04-4587-d686-9fcf992f737a",
        "colab": {
          "base_uri": "https://localhost:8080/"
        }
      },
      "outputs": [
        {
          "output_type": "stream",
          "name": "stdout",
          "text": [
            "\u001b[2K     \u001b[90m━━━━━━━━━━━━━━━━━━━━━━━━━━━━━━━━━━━━━━━━\u001b[0m \u001b[32m40.1/40.1 kB\u001b[0m \u001b[31m4.6 MB/s\u001b[0m eta \u001b[36m0:00:00\u001b[0m\n",
            "\u001b[2K   \u001b[90m━━━━━━━━━━━━━━━━━━━━━━━━━━━━━━━━━━━━━━━━\u001b[0m \u001b[32m11.6/11.6 MB\u001b[0m \u001b[31m158.5 MB/s\u001b[0m eta \u001b[36m0:00:00\u001b[0m\n",
            "\u001b[2K   \u001b[90m━━━━━━━━━━━━━━━━━━━━━━━━━━━━━━━━━━━━━━━━\u001b[0m \u001b[32m3.3/3.3 MB\u001b[0m \u001b[31m194.5 MB/s\u001b[0m eta \u001b[36m0:00:00\u001b[0m\n",
            "\u001b[?25h"
          ]
        }
      ],
      "source": [
        "!pip install transformers --no-cache-dir --quiet -U"
      ]
    },
    {
      "cell_type": "code",
      "execution_count": 17,
      "id": "ea75d0c0",
      "metadata": {
        "id": "ea75d0c0",
        "outputId": "c86336a0-b8e0-4791-93e1-7261114aa66b",
        "colab": {
          "base_uri": "https://localhost:8080/",
          "height": 1000,
          "referenced_widgets": [
            "ec1078e8fc6e457a8f4373895496ce96",
            "2664bc54a7fb4a1c800f80d2819e33b9",
            "626eded1716e4baa80cb320c48e882e7",
            "b7bd03f806e6445eaae65ab65282c865",
            "5c784f441847448b99138b2a67d091c5",
            "e39fa3a232624be08c99c6730c2ec8cc",
            "9655068339064c798b3b0b848f6b352a",
            "e3913b90238844ad8f500fd053e91c33",
            "fa90f91025214db4a5f974644e0c0e95",
            "8246fd20f04d4f1791e55a7484284bca",
            "f97abadf557644bf9a95b7a2450bb5b5",
            "3ef57362a73944e989de2dc2e06375d1",
            "ea0fc424310c470982b3fbfc8489e9bf",
            "68ca2ecd337d4b24b96dcf07d1ca10e0",
            "fc01f47f605a4b32acbf01dc8477a801",
            "1baf3d5700e3457caabca06d2321bba5",
            "236e2d6d29a6409291470021a18ddf14",
            "ab912a82628a4c5eaa2c0be64a056e95",
            "4e07095f62ac484ca4c935e6bc347f2f",
            "3405b001ea9f47e4856786425926569e",
            "a50860ed31254284a00bb793f83e85bd",
            "19709d34c51b4449bb8991d2a9be58d7",
            "8875174bb0534da0ab4323d39522bc51",
            "744d31ed09aa4a18a59a9472559b883a",
            "da566a6752aa44dab1b7115c3db25ffb",
            "f7fe29c7ec8a4dfa9541fdaad30a41be",
            "f20951aa3d204eb295c3afe0133b01f6",
            "9baf5d1e7ab54a2a882770fe7b424d46",
            "c4726cbecf2142ebb861ba66eec051be",
            "e4b5da17587d498bb2578cb282dcb0cb",
            "8d6964df8f314ab7abe6adf04399b37f",
            "4b096769c9834193bc6f01f79cc01860",
            "f199b8ce392144f3b795aaf344532405",
            "7f8668f4223d4dfa923112b00b0fb7d8",
            "901f6dd179d6447d876bc4e6415f4383",
            "ff9e0733e3aa40ae9d5b1be1c1c7db41",
            "6338006cb15e4451a35fb9e8d5d4fc5c",
            "9a91000d79024d5c92348e0511db0d3f",
            "9b22c0ca620345169a66165ec9e59be2",
            "d1571c87990041df88250b858e3233af",
            "6a7dc899b7984d719b3c39ceafdd3733",
            "eab59b0b19244b359d1af3782147020e",
            "c8f8e76c77164592b0ce05056a4ddbc1",
            "1e42c91bccb0458fa9366dc3f733fa9c"
          ]
        }
      },
      "outputs": [
        {
          "metadata": {
            "tags": null
          },
          "name": "stdout",
          "output_type": "stream",
          "text": [
            "Partitioning...\n",
            "Computing ecfp representations...\n"
          ]
        },
        {
          "metadata": {
            "tags": null
          },
          "name": "stderr",
          "output_type": "stream",
          "text": [
            "100%|██████████| 8/8 [00:02<00:00,  3.85it/s]\n"
          ]
        },
        {
          "metadata": {
            "tags": null
          },
          "name": "stdout",
          "output_type": "stream",
          "text": [
            "Computing peptideclm representations...\n"
          ]
        },
        {
          "data": {
            "application/vnd.jupyter.widget-view+json": {
              "model_id": "ec1078e8fc6e457a8f4373895496ce96",
              "version_major": 2,
              "version_minor": 0
            },
            "text/plain": [
              "config.json:   0%|          | 0.00/573 [00:00<?, ?B/s]"
            ]
          },
          "metadata": {},
          "output_type": "display_data"
        },
        {
          "data": {
            "application/vnd.jupyter.widget-view+json": {
              "model_id": "3ef57362a73944e989de2dc2e06375d1",
              "version_major": 2,
              "version_minor": 0
            },
            "text/plain": [
              "pytorch_model.bin:   0%|          | 0.00/175M [00:00<?, ?B/s]"
            ]
          },
          "metadata": {},
          "output_type": "display_data"
        },
        {
          "metadata": {
            "tags": null
          },
          "name": "stderr",
          "output_type": "stream",
          "text": [
            "\r  0%|          | 0/63 [00:00<?, ?it/s]"
          ]
        },
        {
          "data": {
            "application/vnd.jupyter.widget-view+json": {
              "model_id": "8875174bb0534da0ab4323d39522bc51",
              "version_major": 2,
              "version_minor": 0
            },
            "text/plain": [
              "model.safetensors:   0%|          | 0.00/175M [00:00<?, ?B/s]"
            ]
          },
          "metadata": {},
          "output_type": "display_data"
        },
        {
          "output_type": "stream",
          "name": "stderr",
          "text": [
            "100%|██████████| 63/63 [1:15:23<00:00, 71.81s/it]\n"
          ]
        },
        {
          "output_type": "display_data",
          "data": {
            "text/plain": [
              "  0%|          | 0/50 [00:00<?, ?it/s]"
            ],
            "application/vnd.jupyter.widget-view+json": {
              "version_major": 2,
              "version_minor": 0,
              "model_id": "7f8668f4223d4dfa923112b00b0fb7d8"
            }
          },
          "metadata": {}
        },
        {
          "output_type": "stream",
          "name": "stderr",
          "text": [
            "DEBUG:skl2onnx:[Var] +Variable('float_input', 'float_input', type=FloatTensorType(shape=[None, 2048]))\n",
            "DEBUG:skl2onnx:[Var] update is_root=True for Variable('float_input', 'float_input', type=FloatTensorType(shape=[None, 2048]))\n",
            "DEBUG:skl2onnx:[parsing] found alias='SklearnRandomForestClassifier' for type=<class 'sklearn.ensemble._forest.RandomForestClassifier'>.\n",
            "DEBUG:skl2onnx:[Op] +Operator(type='SklearnRandomForestClassifier', onnx_name='SklearnRandomForestClassifier', inputs='', outputs='', raw_operator=RandomForestClassifier(bootstrap=False,ccp_alpha=1.581852149464361e-06,class_weight='balanced',max_depth=31,max_features='log2',min_samples_leaf=2,min_samples_split=8,n_estimators=475,n_jobs=2))\n",
            "DEBUG:skl2onnx:[Op] add In Variable('float_input', 'float_input', type=FloatTensorType(shape=[None, 2048])) to Operator(type='SklearnRandomForestClassifier', onnx_name='SklearnRandomForestClassifier', inputs='float_input', outputs='', raw_operator=RandomForestClassifier(bootstrap=False,ccp_alpha=1.581852149464361e-06,class_weight='balanced',max_depth=31,max_features='log2',min_samples_leaf=2,min_samples_split=8,n_estimators=475,n_jobs=2))\n",
            "DEBUG:skl2onnx:[Var] +Variable('label', 'label', type=Int64TensorType(shape=[]))\n",
            "DEBUG:skl2onnx:[Var] +Variable('probabilities', 'probabilities', type=FloatTensorType(shape=[]))\n",
            "DEBUG:skl2onnx:[Var] set parent for Variable('label', 'label', type=Int64TensorType(shape=[])), parent=Operator(type='SklearnRandomForestClassifier', onnx_name='SklearnRandomForestClassifier', inputs='float_input', outputs='', raw_operator=RandomForestClassifier(bootstrap=False,ccp_alpha=1.581852149464361e-06,class_weight='balanced',max_depth=31,max_features='log2',min_samples_leaf=2,min_samples_split=8,n_estimators=475,n_jobs=2))\n",
            "DEBUG:skl2onnx:[Op] add Out Variable('label', 'label', type=Int64TensorType(shape=[])) to Operator(type='SklearnRandomForestClassifier', onnx_name='SklearnRandomForestClassifier', inputs='float_input', outputs='label', raw_operator=RandomForestClassifier(bootstrap=False,ccp_alpha=1.581852149464361e-06,class_weight='balanced',max_depth=31,max_features='log2',min_samples_leaf=2,min_samples_split=8,n_estimators=475,n_jobs=2))\n",
            "DEBUG:skl2onnx:[Var] set parent for Variable('probabilities', 'probabilities', type=FloatTensorType(shape=[])), parent=Operator(type='SklearnRandomForestClassifier', onnx_name='SklearnRandomForestClassifier', inputs='float_input', outputs='label', raw_operator=RandomForestClassifier(bootstrap=False,ccp_alpha=1.581852149464361e-06,class_weight='balanced',max_depth=31,max_features='log2',min_samples_leaf=2,min_samples_split=8,n_estimators=475,n_jobs=2))\n",
            "DEBUG:skl2onnx:[Op] add Out Variable('probabilities', 'probabilities', type=FloatTensorType(shape=[])) to Operator(type='SklearnRandomForestClassifier', onnx_name='SklearnRandomForestClassifier', inputs='float_input', outputs='label,probabilities', raw_operator=RandomForestClassifier(bootstrap=False,ccp_alpha=1.581852149464361e-06,class_weight='balanced',max_depth=31,max_features='log2',min_samples_leaf=2,min_samples_split=8,n_estimators=475,n_jobs=2))\n",
            "DEBUG:skl2onnx:[Op] +Operator(type='SklearnZipMap', onnx_name='SklearnZipMap', inputs='', outputs='', raw_operator=None)\n",
            "DEBUG:skl2onnx:[Var] +Variable('output_label', 'output_label', type=Int64TensorType(shape=[None]))\n",
            "DEBUG:skl2onnx:[Var] set parent for Variable('output_label', 'output_label', type=Int64TensorType(shape=[None])), parent=Operator(type='SklearnZipMap', onnx_name='SklearnZipMap', inputs='label,probabilities', outputs='', raw_operator=None)\n",
            "DEBUG:skl2onnx:[Op] add Out Variable('output_label', 'output_label', type=Int64TensorType(shape=[None])) to Operator(type='SklearnZipMap', onnx_name='SklearnZipMap', inputs='label,probabilities', outputs='output_label', raw_operator=None)\n",
            "DEBUG:skl2onnx:[Var] +Variable('output_probability', 'output_probability', type=SequenceType(element_type=DictionaryType(key_type=Int64TensorType(shape=[None]), value_type=FloatTensorType(shape=[]))))\n",
            "DEBUG:skl2onnx:[Var] set parent for Variable('output_probability', 'output_probability', type=SequenceType(element_type=DictionaryType(key_type=Int64TensorType(shape=[None]), value_type=FloatTensorType(shape=[])))), parent=Operator(type='SklearnZipMap', onnx_name='SklearnZipMap', inputs='label,probabilities', outputs='output_label', raw_operator=None)\n",
            "DEBUG:skl2onnx:[Op] add Out Variable('output_probability', 'output_probability', type=SequenceType(element_type=DictionaryType(key_type=Int64TensorType(shape=[None]), value_type=FloatTensorType(shape=[])))) to Operator(type='SklearnZipMap', onnx_name='SklearnZipMap', inputs='label,probabilities', outputs='output_label,output_probability', raw_operator=None)\n",
            "DEBUG:skl2onnx:[Op] update is_evaluated=True for Operator(type='SklearnZipMap', onnx_name='SklearnZipMap', inputs='label,probabilities', outputs='output_label,output_probability', raw_operator=None)\n",
            "DEBUG:skl2onnx:[Var] update is_leaf=True for Variable('output_label', 'output_label', type=Int64TensorType(shape=[None]))\n",
            "DEBUG:skl2onnx:[Var] update is_leaf=True for Variable('output_probability', 'output_probability', type=SequenceType(element_type=DictionaryType(key_type=Int64TensorType(shape=[None]), value_type=FloatTensorType(shape=[]))))\n",
            "DEBUG:skl2onnx:[Var] update is_fed=True for Variable('float_input', 'float_input', type=FloatTensorType(shape=[None, 2048])), parent=None\n",
            "DEBUG:skl2onnx:[Var] update is_fed=False for Variable('label', 'label', type=Int64TensorType(shape=[])), parent=Operator(type='SklearnRandomForestClassifier', onnx_name='SklearnRandomForestClassifier', inputs='float_input', outputs='label,probabilities', raw_operator=RandomForestClassifier(bootstrap=False,ccp_alpha=1.581852149464361e-06,class_weight='balanced',max_depth=31,max_features='log2',min_samples_leaf=2,min_samples_split=8,n_estimators=475,n_jobs=2))\n",
            "DEBUG:skl2onnx:[Var] update is_fed=False for Variable('probabilities', 'probabilities', type=FloatTensorType(shape=[])), parent=Operator(type='SklearnRandomForestClassifier', onnx_name='SklearnRandomForestClassifier', inputs='float_input', outputs='label,probabilities', raw_operator=RandomForestClassifier(bootstrap=False,ccp_alpha=1.581852149464361e-06,class_weight='balanced',max_depth=31,max_features='log2',min_samples_leaf=2,min_samples_split=8,n_estimators=475,n_jobs=2))\n",
            "DEBUG:skl2onnx:[Var] update is_fed=False for Variable('output_label', 'output_label', type=Int64TensorType(shape=[None])), parent=Operator(type='SklearnZipMap', onnx_name='SklearnZipMap', inputs='label,probabilities', outputs='output_label,output_probability', raw_operator=None)\n",
            "DEBUG:skl2onnx:[Var] update is_fed=False for Variable('output_probability', 'output_probability', type=SequenceType(element_type=DictionaryType(key_type=Int64TensorType(shape=[None]), value_type=FloatTensorType(shape=[])))), parent=Operator(type='SklearnZipMap', onnx_name='SklearnZipMap', inputs='label,probabilities', outputs='output_label,output_probability', raw_operator=None)\n",
            "DEBUG:skl2onnx:[Op] update is_evaluated=False for Operator(type='SklearnRandomForestClassifier', onnx_name='SklearnRandomForestClassifier', inputs='float_input', outputs='label,probabilities', raw_operator=RandomForestClassifier(bootstrap=False,ccp_alpha=1.581852149464361e-06,class_weight='balanced',max_depth=31,max_features='log2',min_samples_leaf=2,min_samples_split=8,n_estimators=475,n_jobs=2))\n",
            "DEBUG:skl2onnx:[Op] update is_evaluated=False for Operator(type='SklearnZipMap', onnx_name='SklearnZipMap', inputs='label,probabilities', outputs='output_label,output_probability', raw_operator=None)\n",
            "DEBUG:skl2onnx:[Shape2] call infer_types for Operator(type='SklearnRandomForestClassifier', onnx_name='SklearnRandomForestClassifier', inputs='float_input', outputs='label,probabilities', raw_operator=RandomForestClassifier(bootstrap=False,ccp_alpha=1.581852149464361e-06,class_weight='balanced',max_depth=31,max_features='log2',min_samples_leaf=2,min_samples_split=8,n_estimators=475,n_jobs=2))\n",
            "DEBUG:skl2onnx:[Shape-a] Operator(type='SklearnRandomForestClassifier', onnx_name='SklearnRandomForestClassifier', inputs='float_input', outputs='label,probabilities', raw_operator=RandomForestClassifier(bootstrap=False,ccp_alpha=1.581852149464361e-06,class_weight='balanced',max_depth=31,max_features='log2',min_samples_leaf=2,min_samples_split=8,n_estimators=475,n_jobs=2)) fed 'True' - 'FalseFalse'\n",
            "DEBUG:skl2onnx:[Var] update type for Variable('label', 'label', type=Int64TensorType(shape=[]))\n",
            "DEBUG:skl2onnx:[Shape-b] Operator(type='SklearnRandomForestClassifier', onnx_name='SklearnRandomForestClassifier', inputs='float_input', outputs='label,probabilities', raw_operator=RandomForestClassifier(bootstrap=False,ccp_alpha=1.581852149464361e-06,class_weight='balanced',max_depth=31,max_features='log2',min_samples_leaf=2,min_samples_split=8,n_estimators=475,n_jobs=2)) inputs=[Variable('float_input', 'float_input', type=FloatTensorType(shape=[None, 2048]))] - outputs=[Variable('label', 'label', type=Int64TensorType(shape=[None])), Variable('probabilities', 'probabilities', type=FloatTensorType(shape=[None, 2]))]\n",
            "DEBUG:skl2onnx:[Conv] call Operator(type='SklearnRandomForestClassifier', onnx_name='SklearnRandomForestClassifier', inputs='float_input', outputs='label,probabilities', raw_operator=RandomForestClassifier(bootstrap=False,ccp_alpha=1.581852149464361e-06,class_weight='balanced',max_depth=31,max_features='log2',min_samples_leaf=2,min_samples_split=8,n_estimators=475,n_jobs=2)) fed 'True' - 'FalseFalse'\n",
            "DEBUG:skl2onnx:[Node] 'TreeEnsembleClassifier' - 'float_input' -> 'label,probabilities' (name='TreeEnsembleClassifier')\n",
            "DEBUG:skl2onnx:[Conv] end - Operator(type='SklearnRandomForestClassifier', onnx_name='SklearnRandomForestClassifier', inputs='float_input', outputs='label,probabilities', raw_operator=RandomForestClassifier(bootstrap=False,ccp_alpha=1.581852149464361e-06,class_weight='balanced',max_depth=31,max_features='log2',min_samples_leaf=2,min_samples_split=8,n_estimators=475,n_jobs=2))\n",
            "DEBUG:skl2onnx:[Op] update is_evaluated=True for Operator(type='SklearnRandomForestClassifier', onnx_name='SklearnRandomForestClassifier', inputs='float_input', outputs='label,probabilities', raw_operator=RandomForestClassifier(bootstrap=False,ccp_alpha=1.581852149464361e-06,class_weight='balanced',max_depth=31,max_features='log2',min_samples_leaf=2,min_samples_split=8,n_estimators=475,n_jobs=2))\n",
            "DEBUG:skl2onnx:[Var] update is_fed=True for Variable('label', 'label', type=Int64TensorType(shape=[None])), parent=Operator(type='SklearnRandomForestClassifier', onnx_name='SklearnRandomForestClassifier', inputs='float_input', outputs='label,probabilities', raw_operator=RandomForestClassifier(bootstrap=False,ccp_alpha=1.581852149464361e-06,class_weight='balanced',max_depth=31,max_features='log2',min_samples_leaf=2,min_samples_split=8,n_estimators=475,n_jobs=2))\n",
            "DEBUG:skl2onnx:[Var] update is_fed=True for Variable('probabilities', 'probabilities', type=FloatTensorType(shape=[None, 2])), parent=Operator(type='SklearnRandomForestClassifier', onnx_name='SklearnRandomForestClassifier', inputs='float_input', outputs='label,probabilities', raw_operator=RandomForestClassifier(bootstrap=False,ccp_alpha=1.581852149464361e-06,class_weight='balanced',max_depth=31,max_features='log2',min_samples_leaf=2,min_samples_split=8,n_estimators=475,n_jobs=2))\n",
            "DEBUG:skl2onnx:[Shape2] call infer_types for Operator(type='SklearnZipMap', onnx_name='SklearnZipMap', inputs='label,probabilities', outputs='output_label,output_probability', raw_operator=None)\n",
            "DEBUG:skl2onnx:[Shape-a] Operator(type='SklearnZipMap', onnx_name='SklearnZipMap', inputs='label,probabilities', outputs='output_label,output_probability', raw_operator=None) fed 'TrueTrue' - 'FalseFalse'\n",
            "DEBUG:skl2onnx:[Var] update type for Variable('output_label', 'output_label', type=Int64TensorType(shape=[None]))\n",
            "DEBUG:skl2onnx:[Shape-b] Operator(type='SklearnZipMap', onnx_name='SklearnZipMap', inputs='label,probabilities', outputs='output_label,output_probability', raw_operator=None) inputs=[Variable('label', 'label', type=Int64TensorType(shape=[None])), Variable('probabilities', 'probabilities', type=FloatTensorType(shape=[None, 2]))] - outputs=[Variable('output_label', 'output_label', type=Int64TensorType(shape=[None])), Variable('output_probability', 'output_probability', type=SequenceType(element_type=DictionaryType(key_type=Int64TensorType(shape=[None]), value_type=FloatTensorType(shape=[]))))]\n",
            "DEBUG:skl2onnx:[Conv] call Operator(type='SklearnZipMap', onnx_name='SklearnZipMap', inputs='label,probabilities', outputs='output_label,output_probability', raw_operator=None) fed 'TrueTrue' - 'FalseFalse'\n",
            "DEBUG:skl2onnx:[Node] 'Cast' - 'label' -> 'output_label' (name='Cast')\n",
            "DEBUG:skl2onnx:[Node] 'ZipMap' - 'probabilities' -> 'output_probability' (name='ZipMap')\n",
            "DEBUG:skl2onnx:[Conv] end - Operator(type='SklearnZipMap', onnx_name='SklearnZipMap', inputs='label,probabilities', outputs='output_label,output_probability', raw_operator=None)\n",
            "DEBUG:skl2onnx:[Op] update is_evaluated=True for Operator(type='SklearnZipMap', onnx_name='SklearnZipMap', inputs='label,probabilities', outputs='output_label,output_probability', raw_operator=None)\n",
            "DEBUG:skl2onnx:[Var] update is_fed=True for Variable('output_label', 'output_label', type=Int64TensorType(shape=[None])), parent=Operator(type='SklearnZipMap', onnx_name='SklearnZipMap', inputs='label,probabilities', outputs='output_label,output_probability', raw_operator=None)\n",
            "DEBUG:skl2onnx:[Var] update is_fed=True for Variable('output_probability', 'output_probability', type=SequenceType(element_type=DictionaryType(key_type=Int64TensorType(shape=[None]), value_type=FloatTensorType(shape=[])))), parent=Operator(type='SklearnZipMap', onnx_name='SklearnZipMap', inputs='label,probabilities', outputs='output_label,output_probability', raw_operator=None)\n",
            "DEBUG:skl2onnx:[Var] +Variable('float_input', 'float_input', type=FloatTensorType(shape=[None, 2048]))\n",
            "DEBUG:skl2onnx:[Var] update is_root=True for Variable('float_input', 'float_input', type=FloatTensorType(shape=[None, 2048]))\n",
            "DEBUG:skl2onnx:[parsing] found alias='SklearnRandomForestClassifier' for type=<class 'sklearn.ensemble._forest.RandomForestClassifier'>.\n",
            "DEBUG:skl2onnx:[Op] +Operator(type='SklearnRandomForestClassifier', onnx_name='SklearnRandomForestClassifier', inputs='', outputs='', raw_operator=RandomForestClassifier(bootstrap=False,ccp_alpha=1.581852149464361e-06,class_weight='balanced',max_depth=31,max_features='log2',min_samples_leaf=2,min_samples_split=8,n_estimators=475,n_jobs=2))\n",
            "DEBUG:skl2onnx:[Op] add In Variable('float_input', 'float_input', type=FloatTensorType(shape=[None, 2048])) to Operator(type='SklearnRandomForestClassifier', onnx_name='SklearnRandomForestClassifier', inputs='float_input', outputs='', raw_operator=RandomForestClassifier(bootstrap=False,ccp_alpha=1.581852149464361e-06,class_weight='balanced',max_depth=31,max_features='log2',min_samples_leaf=2,min_samples_split=8,n_estimators=475,n_jobs=2))\n",
            "DEBUG:skl2onnx:[Var] +Variable('label', 'label', type=Int64TensorType(shape=[]))\n",
            "DEBUG:skl2onnx:[Var] +Variable('probabilities', 'probabilities', type=FloatTensorType(shape=[]))\n",
            "DEBUG:skl2onnx:[Var] set parent for Variable('label', 'label', type=Int64TensorType(shape=[])), parent=Operator(type='SklearnRandomForestClassifier', onnx_name='SklearnRandomForestClassifier', inputs='float_input', outputs='', raw_operator=RandomForestClassifier(bootstrap=False,ccp_alpha=1.581852149464361e-06,class_weight='balanced',max_depth=31,max_features='log2',min_samples_leaf=2,min_samples_split=8,n_estimators=475,n_jobs=2))\n",
            "DEBUG:skl2onnx:[Op] add Out Variable('label', 'label', type=Int64TensorType(shape=[])) to Operator(type='SklearnRandomForestClassifier', onnx_name='SklearnRandomForestClassifier', inputs='float_input', outputs='label', raw_operator=RandomForestClassifier(bootstrap=False,ccp_alpha=1.581852149464361e-06,class_weight='balanced',max_depth=31,max_features='log2',min_samples_leaf=2,min_samples_split=8,n_estimators=475,n_jobs=2))\n",
            "DEBUG:skl2onnx:[Var] set parent for Variable('probabilities', 'probabilities', type=FloatTensorType(shape=[])), parent=Operator(type='SklearnRandomForestClassifier', onnx_name='SklearnRandomForestClassifier', inputs='float_input', outputs='label', raw_operator=RandomForestClassifier(bootstrap=False,ccp_alpha=1.581852149464361e-06,class_weight='balanced',max_depth=31,max_features='log2',min_samples_leaf=2,min_samples_split=8,n_estimators=475,n_jobs=2))\n",
            "DEBUG:skl2onnx:[Op] add Out Variable('probabilities', 'probabilities', type=FloatTensorType(shape=[])) to Operator(type='SklearnRandomForestClassifier', onnx_name='SklearnRandomForestClassifier', inputs='float_input', outputs='label,probabilities', raw_operator=RandomForestClassifier(bootstrap=False,ccp_alpha=1.581852149464361e-06,class_weight='balanced',max_depth=31,max_features='log2',min_samples_leaf=2,min_samples_split=8,n_estimators=475,n_jobs=2))\n",
            "DEBUG:skl2onnx:[Op] +Operator(type='SklearnZipMap', onnx_name='SklearnZipMap', inputs='', outputs='', raw_operator=None)\n",
            "DEBUG:skl2onnx:[Var] +Variable('output_label', 'output_label', type=Int64TensorType(shape=[None]))\n",
            "DEBUG:skl2onnx:[Var] set parent for Variable('output_label', 'output_label', type=Int64TensorType(shape=[None])), parent=Operator(type='SklearnZipMap', onnx_name='SklearnZipMap', inputs='label,probabilities', outputs='', raw_operator=None)\n",
            "DEBUG:skl2onnx:[Op] add Out Variable('output_label', 'output_label', type=Int64TensorType(shape=[None])) to Operator(type='SklearnZipMap', onnx_name='SklearnZipMap', inputs='label,probabilities', outputs='output_label', raw_operator=None)\n",
            "DEBUG:skl2onnx:[Var] +Variable('output_probability', 'output_probability', type=SequenceType(element_type=DictionaryType(key_type=Int64TensorType(shape=[None]), value_type=FloatTensorType(shape=[]))))\n",
            "DEBUG:skl2onnx:[Var] set parent for Variable('output_probability', 'output_probability', type=SequenceType(element_type=DictionaryType(key_type=Int64TensorType(shape=[None]), value_type=FloatTensorType(shape=[])))), parent=Operator(type='SklearnZipMap', onnx_name='SklearnZipMap', inputs='label,probabilities', outputs='output_label', raw_operator=None)\n",
            "DEBUG:skl2onnx:[Op] add Out Variable('output_probability', 'output_probability', type=SequenceType(element_type=DictionaryType(key_type=Int64TensorType(shape=[None]), value_type=FloatTensorType(shape=[])))) to Operator(type='SklearnZipMap', onnx_name='SklearnZipMap', inputs='label,probabilities', outputs='output_label,output_probability', raw_operator=None)\n",
            "DEBUG:skl2onnx:[Op] update is_evaluated=True for Operator(type='SklearnZipMap', onnx_name='SklearnZipMap', inputs='label,probabilities', outputs='output_label,output_probability', raw_operator=None)\n",
            "DEBUG:skl2onnx:[Var] update is_leaf=True for Variable('output_label', 'output_label', type=Int64TensorType(shape=[None]))\n",
            "DEBUG:skl2onnx:[Var] update is_leaf=True for Variable('output_probability', 'output_probability', type=SequenceType(element_type=DictionaryType(key_type=Int64TensorType(shape=[None]), value_type=FloatTensorType(shape=[]))))\n",
            "DEBUG:skl2onnx:[Var] update is_fed=True for Variable('float_input', 'float_input', type=FloatTensorType(shape=[None, 2048])), parent=None\n",
            "DEBUG:skl2onnx:[Var] update is_fed=False for Variable('label', 'label', type=Int64TensorType(shape=[])), parent=Operator(type='SklearnRandomForestClassifier', onnx_name='SklearnRandomForestClassifier', inputs='float_input', outputs='label,probabilities', raw_operator=RandomForestClassifier(bootstrap=False,ccp_alpha=1.581852149464361e-06,class_weight='balanced',max_depth=31,max_features='log2',min_samples_leaf=2,min_samples_split=8,n_estimators=475,n_jobs=2))\n",
            "DEBUG:skl2onnx:[Var] update is_fed=False for Variable('probabilities', 'probabilities', type=FloatTensorType(shape=[])), parent=Operator(type='SklearnRandomForestClassifier', onnx_name='SklearnRandomForestClassifier', inputs='float_input', outputs='label,probabilities', raw_operator=RandomForestClassifier(bootstrap=False,ccp_alpha=1.581852149464361e-06,class_weight='balanced',max_depth=31,max_features='log2',min_samples_leaf=2,min_samples_split=8,n_estimators=475,n_jobs=2))\n",
            "DEBUG:skl2onnx:[Var] update is_fed=False for Variable('output_label', 'output_label', type=Int64TensorType(shape=[None])), parent=Operator(type='SklearnZipMap', onnx_name='SklearnZipMap', inputs='label,probabilities', outputs='output_label,output_probability', raw_operator=None)\n",
            "DEBUG:skl2onnx:[Var] update is_fed=False for Variable('output_probability', 'output_probability', type=SequenceType(element_type=DictionaryType(key_type=Int64TensorType(shape=[None]), value_type=FloatTensorType(shape=[])))), parent=Operator(type='SklearnZipMap', onnx_name='SklearnZipMap', inputs='label,probabilities', outputs='output_label,output_probability', raw_operator=None)\n",
            "DEBUG:skl2onnx:[Op] update is_evaluated=False for Operator(type='SklearnRandomForestClassifier', onnx_name='SklearnRandomForestClassifier', inputs='float_input', outputs='label,probabilities', raw_operator=RandomForestClassifier(bootstrap=False,ccp_alpha=1.581852149464361e-06,class_weight='balanced',max_depth=31,max_features='log2',min_samples_leaf=2,min_samples_split=8,n_estimators=475,n_jobs=2))\n",
            "DEBUG:skl2onnx:[Op] update is_evaluated=False for Operator(type='SklearnZipMap', onnx_name='SklearnZipMap', inputs='label,probabilities', outputs='output_label,output_probability', raw_operator=None)\n",
            "DEBUG:skl2onnx:[Shape2] call infer_types for Operator(type='SklearnRandomForestClassifier', onnx_name='SklearnRandomForestClassifier', inputs='float_input', outputs='label,probabilities', raw_operator=RandomForestClassifier(bootstrap=False,ccp_alpha=1.581852149464361e-06,class_weight='balanced',max_depth=31,max_features='log2',min_samples_leaf=2,min_samples_split=8,n_estimators=475,n_jobs=2))\n",
            "DEBUG:skl2onnx:[Shape-a] Operator(type='SklearnRandomForestClassifier', onnx_name='SklearnRandomForestClassifier', inputs='float_input', outputs='label,probabilities', raw_operator=RandomForestClassifier(bootstrap=False,ccp_alpha=1.581852149464361e-06,class_weight='balanced',max_depth=31,max_features='log2',min_samples_leaf=2,min_samples_split=8,n_estimators=475,n_jobs=2)) fed 'True' - 'FalseFalse'\n",
            "DEBUG:skl2onnx:[Var] update type for Variable('label', 'label', type=Int64TensorType(shape=[]))\n",
            "DEBUG:skl2onnx:[Shape-b] Operator(type='SklearnRandomForestClassifier', onnx_name='SklearnRandomForestClassifier', inputs='float_input', outputs='label,probabilities', raw_operator=RandomForestClassifier(bootstrap=False,ccp_alpha=1.581852149464361e-06,class_weight='balanced',max_depth=31,max_features='log2',min_samples_leaf=2,min_samples_split=8,n_estimators=475,n_jobs=2)) inputs=[Variable('float_input', 'float_input', type=FloatTensorType(shape=[None, 2048]))] - outputs=[Variable('label', 'label', type=Int64TensorType(shape=[None])), Variable('probabilities', 'probabilities', type=FloatTensorType(shape=[None, 2]))]\n",
            "DEBUG:skl2onnx:[Conv] call Operator(type='SklearnRandomForestClassifier', onnx_name='SklearnRandomForestClassifier', inputs='float_input', outputs='label,probabilities', raw_operator=RandomForestClassifier(bootstrap=False,ccp_alpha=1.581852149464361e-06,class_weight='balanced',max_depth=31,max_features='log2',min_samples_leaf=2,min_samples_split=8,n_estimators=475,n_jobs=2)) fed 'True' - 'FalseFalse'\n",
            "DEBUG:skl2onnx:[Node] 'TreeEnsembleClassifier' - 'float_input' -> 'label,probabilities' (name='TreeEnsembleClassifier')\n",
            "DEBUG:skl2onnx:[Conv] end - Operator(type='SklearnRandomForestClassifier', onnx_name='SklearnRandomForestClassifier', inputs='float_input', outputs='label,probabilities', raw_operator=RandomForestClassifier(bootstrap=False,ccp_alpha=1.581852149464361e-06,class_weight='balanced',max_depth=31,max_features='log2',min_samples_leaf=2,min_samples_split=8,n_estimators=475,n_jobs=2))\n",
            "DEBUG:skl2onnx:[Op] update is_evaluated=True for Operator(type='SklearnRandomForestClassifier', onnx_name='SklearnRandomForestClassifier', inputs='float_input', outputs='label,probabilities', raw_operator=RandomForestClassifier(bootstrap=False,ccp_alpha=1.581852149464361e-06,class_weight='balanced',max_depth=31,max_features='log2',min_samples_leaf=2,min_samples_split=8,n_estimators=475,n_jobs=2))\n",
            "DEBUG:skl2onnx:[Var] update is_fed=True for Variable('label', 'label', type=Int64TensorType(shape=[None])), parent=Operator(type='SklearnRandomForestClassifier', onnx_name='SklearnRandomForestClassifier', inputs='float_input', outputs='label,probabilities', raw_operator=RandomForestClassifier(bootstrap=False,ccp_alpha=1.581852149464361e-06,class_weight='balanced',max_depth=31,max_features='log2',min_samples_leaf=2,min_samples_split=8,n_estimators=475,n_jobs=2))\n",
            "DEBUG:skl2onnx:[Var] update is_fed=True for Variable('probabilities', 'probabilities', type=FloatTensorType(shape=[None, 2])), parent=Operator(type='SklearnRandomForestClassifier', onnx_name='SklearnRandomForestClassifier', inputs='float_input', outputs='label,probabilities', raw_operator=RandomForestClassifier(bootstrap=False,ccp_alpha=1.581852149464361e-06,class_weight='balanced',max_depth=31,max_features='log2',min_samples_leaf=2,min_samples_split=8,n_estimators=475,n_jobs=2))\n",
            "DEBUG:skl2onnx:[Shape2] call infer_types for Operator(type='SklearnZipMap', onnx_name='SklearnZipMap', inputs='label,probabilities', outputs='output_label,output_probability', raw_operator=None)\n",
            "DEBUG:skl2onnx:[Shape-a] Operator(type='SklearnZipMap', onnx_name='SklearnZipMap', inputs='label,probabilities', outputs='output_label,output_probability', raw_operator=None) fed 'TrueTrue' - 'FalseFalse'\n",
            "DEBUG:skl2onnx:[Var] update type for Variable('output_label', 'output_label', type=Int64TensorType(shape=[None]))\n",
            "DEBUG:skl2onnx:[Shape-b] Operator(type='SklearnZipMap', onnx_name='SklearnZipMap', inputs='label,probabilities', outputs='output_label,output_probability', raw_operator=None) inputs=[Variable('label', 'label', type=Int64TensorType(shape=[None])), Variable('probabilities', 'probabilities', type=FloatTensorType(shape=[None, 2]))] - outputs=[Variable('output_label', 'output_label', type=Int64TensorType(shape=[None])), Variable('output_probability', 'output_probability', type=SequenceType(element_type=DictionaryType(key_type=Int64TensorType(shape=[None]), value_type=FloatTensorType(shape=[]))))]\n",
            "DEBUG:skl2onnx:[Conv] call Operator(type='SklearnZipMap', onnx_name='SklearnZipMap', inputs='label,probabilities', outputs='output_label,output_probability', raw_operator=None) fed 'TrueTrue' - 'FalseFalse'\n",
            "DEBUG:skl2onnx:[Node] 'Cast' - 'label' -> 'output_label' (name='Cast')\n",
            "DEBUG:skl2onnx:[Node] 'ZipMap' - 'probabilities' -> 'output_probability' (name='ZipMap')\n",
            "DEBUG:skl2onnx:[Conv] end - Operator(type='SklearnZipMap', onnx_name='SklearnZipMap', inputs='label,probabilities', outputs='output_label,output_probability', raw_operator=None)\n",
            "DEBUG:skl2onnx:[Op] update is_evaluated=True for Operator(type='SklearnZipMap', onnx_name='SklearnZipMap', inputs='label,probabilities', outputs='output_label,output_probability', raw_operator=None)\n",
            "DEBUG:skl2onnx:[Var] update is_fed=True for Variable('output_label', 'output_label', type=Int64TensorType(shape=[None])), parent=Operator(type='SklearnZipMap', onnx_name='SklearnZipMap', inputs='label,probabilities', outputs='output_label,output_probability', raw_operator=None)\n",
            "DEBUG:skl2onnx:[Var] update is_fed=True for Variable('output_probability', 'output_probability', type=SequenceType(element_type=DictionaryType(key_type=Int64TensorType(shape=[None]), value_type=FloatTensorType(shape=[])))), parent=Operator(type='SklearnZipMap', onnx_name='SklearnZipMap', inputs='label,probabilities', outputs='output_label,output_probability', raw_operator=None)\n",
            "DEBUG:skl2onnx:[Var] +Variable('float_input', 'float_input', type=FloatTensorType(shape=[None, 2048]))\n",
            "DEBUG:skl2onnx:[Var] update is_root=True for Variable('float_input', 'float_input', type=FloatTensorType(shape=[None, 2048]))\n",
            "DEBUG:skl2onnx:[parsing] found alias='SklearnRandomForestClassifier' for type=<class 'sklearn.ensemble._forest.RandomForestClassifier'>.\n",
            "DEBUG:skl2onnx:[Op] +Operator(type='SklearnRandomForestClassifier', onnx_name='SklearnRandomForestClassifier', inputs='', outputs='', raw_operator=RandomForestClassifier(bootstrap=False,ccp_alpha=1.581852149464361e-06,class_weight='balanced',max_depth=31,max_features='log2',min_samples_leaf=2,min_samples_split=8,n_estimators=475,n_jobs=2))\n",
            "DEBUG:skl2onnx:[Op] add In Variable('float_input', 'float_input', type=FloatTensorType(shape=[None, 2048])) to Operator(type='SklearnRandomForestClassifier', onnx_name='SklearnRandomForestClassifier', inputs='float_input', outputs='', raw_operator=RandomForestClassifier(bootstrap=False,ccp_alpha=1.581852149464361e-06,class_weight='balanced',max_depth=31,max_features='log2',min_samples_leaf=2,min_samples_split=8,n_estimators=475,n_jobs=2))\n",
            "DEBUG:skl2onnx:[Var] +Variable('label', 'label', type=Int64TensorType(shape=[]))\n",
            "DEBUG:skl2onnx:[Var] +Variable('probabilities', 'probabilities', type=FloatTensorType(shape=[]))\n",
            "DEBUG:skl2onnx:[Var] set parent for Variable('label', 'label', type=Int64TensorType(shape=[])), parent=Operator(type='SklearnRandomForestClassifier', onnx_name='SklearnRandomForestClassifier', inputs='float_input', outputs='', raw_operator=RandomForestClassifier(bootstrap=False,ccp_alpha=1.581852149464361e-06,class_weight='balanced',max_depth=31,max_features='log2',min_samples_leaf=2,min_samples_split=8,n_estimators=475,n_jobs=2))\n",
            "DEBUG:skl2onnx:[Op] add Out Variable('label', 'label', type=Int64TensorType(shape=[])) to Operator(type='SklearnRandomForestClassifier', onnx_name='SklearnRandomForestClassifier', inputs='float_input', outputs='label', raw_operator=RandomForestClassifier(bootstrap=False,ccp_alpha=1.581852149464361e-06,class_weight='balanced',max_depth=31,max_features='log2',min_samples_leaf=2,min_samples_split=8,n_estimators=475,n_jobs=2))\n",
            "DEBUG:skl2onnx:[Var] set parent for Variable('probabilities', 'probabilities', type=FloatTensorType(shape=[])), parent=Operator(type='SklearnRandomForestClassifier', onnx_name='SklearnRandomForestClassifier', inputs='float_input', outputs='label', raw_operator=RandomForestClassifier(bootstrap=False,ccp_alpha=1.581852149464361e-06,class_weight='balanced',max_depth=31,max_features='log2',min_samples_leaf=2,min_samples_split=8,n_estimators=475,n_jobs=2))\n",
            "DEBUG:skl2onnx:[Op] add Out Variable('probabilities', 'probabilities', type=FloatTensorType(shape=[])) to Operator(type='SklearnRandomForestClassifier', onnx_name='SklearnRandomForestClassifier', inputs='float_input', outputs='label,probabilities', raw_operator=RandomForestClassifier(bootstrap=False,ccp_alpha=1.581852149464361e-06,class_weight='balanced',max_depth=31,max_features='log2',min_samples_leaf=2,min_samples_split=8,n_estimators=475,n_jobs=2))\n",
            "DEBUG:skl2onnx:[Op] +Operator(type='SklearnZipMap', onnx_name='SklearnZipMap', inputs='', outputs='', raw_operator=None)\n",
            "DEBUG:skl2onnx:[Var] +Variable('output_label', 'output_label', type=Int64TensorType(shape=[None]))\n",
            "DEBUG:skl2onnx:[Var] set parent for Variable('output_label', 'output_label', type=Int64TensorType(shape=[None])), parent=Operator(type='SklearnZipMap', onnx_name='SklearnZipMap', inputs='label,probabilities', outputs='', raw_operator=None)\n",
            "DEBUG:skl2onnx:[Op] add Out Variable('output_label', 'output_label', type=Int64TensorType(shape=[None])) to Operator(type='SklearnZipMap', onnx_name='SklearnZipMap', inputs='label,probabilities', outputs='output_label', raw_operator=None)\n",
            "DEBUG:skl2onnx:[Var] +Variable('output_probability', 'output_probability', type=SequenceType(element_type=DictionaryType(key_type=Int64TensorType(shape=[None]), value_type=FloatTensorType(shape=[]))))\n",
            "DEBUG:skl2onnx:[Var] set parent for Variable('output_probability', 'output_probability', type=SequenceType(element_type=DictionaryType(key_type=Int64TensorType(shape=[None]), value_type=FloatTensorType(shape=[])))), parent=Operator(type='SklearnZipMap', onnx_name='SklearnZipMap', inputs='label,probabilities', outputs='output_label', raw_operator=None)\n",
            "DEBUG:skl2onnx:[Op] add Out Variable('output_probability', 'output_probability', type=SequenceType(element_type=DictionaryType(key_type=Int64TensorType(shape=[None]), value_type=FloatTensorType(shape=[])))) to Operator(type='SklearnZipMap', onnx_name='SklearnZipMap', inputs='label,probabilities', outputs='output_label,output_probability', raw_operator=None)\n",
            "DEBUG:skl2onnx:[Op] update is_evaluated=True for Operator(type='SklearnZipMap', onnx_name='SklearnZipMap', inputs='label,probabilities', outputs='output_label,output_probability', raw_operator=None)\n",
            "DEBUG:skl2onnx:[Var] update is_leaf=True for Variable('output_label', 'output_label', type=Int64TensorType(shape=[None]))\n",
            "DEBUG:skl2onnx:[Var] update is_leaf=True for Variable('output_probability', 'output_probability', type=SequenceType(element_type=DictionaryType(key_type=Int64TensorType(shape=[None]), value_type=FloatTensorType(shape=[]))))\n",
            "DEBUG:skl2onnx:[Var] update is_fed=True for Variable('float_input', 'float_input', type=FloatTensorType(shape=[None, 2048])), parent=None\n",
            "DEBUG:skl2onnx:[Var] update is_fed=False for Variable('label', 'label', type=Int64TensorType(shape=[])), parent=Operator(type='SklearnRandomForestClassifier', onnx_name='SklearnRandomForestClassifier', inputs='float_input', outputs='label,probabilities', raw_operator=RandomForestClassifier(bootstrap=False,ccp_alpha=1.581852149464361e-06,class_weight='balanced',max_depth=31,max_features='log2',min_samples_leaf=2,min_samples_split=8,n_estimators=475,n_jobs=2))\n",
            "DEBUG:skl2onnx:[Var] update is_fed=False for Variable('probabilities', 'probabilities', type=FloatTensorType(shape=[])), parent=Operator(type='SklearnRandomForestClassifier', onnx_name='SklearnRandomForestClassifier', inputs='float_input', outputs='label,probabilities', raw_operator=RandomForestClassifier(bootstrap=False,ccp_alpha=1.581852149464361e-06,class_weight='balanced',max_depth=31,max_features='log2',min_samples_leaf=2,min_samples_split=8,n_estimators=475,n_jobs=2))\n",
            "DEBUG:skl2onnx:[Var] update is_fed=False for Variable('output_label', 'output_label', type=Int64TensorType(shape=[None])), parent=Operator(type='SklearnZipMap', onnx_name='SklearnZipMap', inputs='label,probabilities', outputs='output_label,output_probability', raw_operator=None)\n",
            "DEBUG:skl2onnx:[Var] update is_fed=False for Variable('output_probability', 'output_probability', type=SequenceType(element_type=DictionaryType(key_type=Int64TensorType(shape=[None]), value_type=FloatTensorType(shape=[])))), parent=Operator(type='SklearnZipMap', onnx_name='SklearnZipMap', inputs='label,probabilities', outputs='output_label,output_probability', raw_operator=None)\n",
            "DEBUG:skl2onnx:[Op] update is_evaluated=False for Operator(type='SklearnRandomForestClassifier', onnx_name='SklearnRandomForestClassifier', inputs='float_input', outputs='label,probabilities', raw_operator=RandomForestClassifier(bootstrap=False,ccp_alpha=1.581852149464361e-06,class_weight='balanced',max_depth=31,max_features='log2',min_samples_leaf=2,min_samples_split=8,n_estimators=475,n_jobs=2))\n",
            "DEBUG:skl2onnx:[Op] update is_evaluated=False for Operator(type='SklearnZipMap', onnx_name='SklearnZipMap', inputs='label,probabilities', outputs='output_label,output_probability', raw_operator=None)\n",
            "DEBUG:skl2onnx:[Shape2] call infer_types for Operator(type='SklearnRandomForestClassifier', onnx_name='SklearnRandomForestClassifier', inputs='float_input', outputs='label,probabilities', raw_operator=RandomForestClassifier(bootstrap=False,ccp_alpha=1.581852149464361e-06,class_weight='balanced',max_depth=31,max_features='log2',min_samples_leaf=2,min_samples_split=8,n_estimators=475,n_jobs=2))\n",
            "DEBUG:skl2onnx:[Shape-a] Operator(type='SklearnRandomForestClassifier', onnx_name='SklearnRandomForestClassifier', inputs='float_input', outputs='label,probabilities', raw_operator=RandomForestClassifier(bootstrap=False,ccp_alpha=1.581852149464361e-06,class_weight='balanced',max_depth=31,max_features='log2',min_samples_leaf=2,min_samples_split=8,n_estimators=475,n_jobs=2)) fed 'True' - 'FalseFalse'\n",
            "DEBUG:skl2onnx:[Var] update type for Variable('label', 'label', type=Int64TensorType(shape=[]))\n",
            "DEBUG:skl2onnx:[Shape-b] Operator(type='SklearnRandomForestClassifier', onnx_name='SklearnRandomForestClassifier', inputs='float_input', outputs='label,probabilities', raw_operator=RandomForestClassifier(bootstrap=False,ccp_alpha=1.581852149464361e-06,class_weight='balanced',max_depth=31,max_features='log2',min_samples_leaf=2,min_samples_split=8,n_estimators=475,n_jobs=2)) inputs=[Variable('float_input', 'float_input', type=FloatTensorType(shape=[None, 2048]))] - outputs=[Variable('label', 'label', type=Int64TensorType(shape=[None])), Variable('probabilities', 'probabilities', type=FloatTensorType(shape=[None, 2]))]\n",
            "DEBUG:skl2onnx:[Conv] call Operator(type='SklearnRandomForestClassifier', onnx_name='SklearnRandomForestClassifier', inputs='float_input', outputs='label,probabilities', raw_operator=RandomForestClassifier(bootstrap=False,ccp_alpha=1.581852149464361e-06,class_weight='balanced',max_depth=31,max_features='log2',min_samples_leaf=2,min_samples_split=8,n_estimators=475,n_jobs=2)) fed 'True' - 'FalseFalse'\n",
            "DEBUG:skl2onnx:[Node] 'TreeEnsembleClassifier' - 'float_input' -> 'label,probabilities' (name='TreeEnsembleClassifier')\n",
            "DEBUG:skl2onnx:[Conv] end - Operator(type='SklearnRandomForestClassifier', onnx_name='SklearnRandomForestClassifier', inputs='float_input', outputs='label,probabilities', raw_operator=RandomForestClassifier(bootstrap=False,ccp_alpha=1.581852149464361e-06,class_weight='balanced',max_depth=31,max_features='log2',min_samples_leaf=2,min_samples_split=8,n_estimators=475,n_jobs=2))\n",
            "DEBUG:skl2onnx:[Op] update is_evaluated=True for Operator(type='SklearnRandomForestClassifier', onnx_name='SklearnRandomForestClassifier', inputs='float_input', outputs='label,probabilities', raw_operator=RandomForestClassifier(bootstrap=False,ccp_alpha=1.581852149464361e-06,class_weight='balanced',max_depth=31,max_features='log2',min_samples_leaf=2,min_samples_split=8,n_estimators=475,n_jobs=2))\n",
            "DEBUG:skl2onnx:[Var] update is_fed=True for Variable('label', 'label', type=Int64TensorType(shape=[None])), parent=Operator(type='SklearnRandomForestClassifier', onnx_name='SklearnRandomForestClassifier', inputs='float_input', outputs='label,probabilities', raw_operator=RandomForestClassifier(bootstrap=False,ccp_alpha=1.581852149464361e-06,class_weight='balanced',max_depth=31,max_features='log2',min_samples_leaf=2,min_samples_split=8,n_estimators=475,n_jobs=2))\n",
            "DEBUG:skl2onnx:[Var] update is_fed=True for Variable('probabilities', 'probabilities', type=FloatTensorType(shape=[None, 2])), parent=Operator(type='SklearnRandomForestClassifier', onnx_name='SklearnRandomForestClassifier', inputs='float_input', outputs='label,probabilities', raw_operator=RandomForestClassifier(bootstrap=False,ccp_alpha=1.581852149464361e-06,class_weight='balanced',max_depth=31,max_features='log2',min_samples_leaf=2,min_samples_split=8,n_estimators=475,n_jobs=2))\n",
            "DEBUG:skl2onnx:[Shape2] call infer_types for Operator(type='SklearnZipMap', onnx_name='SklearnZipMap', inputs='label,probabilities', outputs='output_label,output_probability', raw_operator=None)\n",
            "DEBUG:skl2onnx:[Shape-a] Operator(type='SklearnZipMap', onnx_name='SklearnZipMap', inputs='label,probabilities', outputs='output_label,output_probability', raw_operator=None) fed 'TrueTrue' - 'FalseFalse'\n",
            "DEBUG:skl2onnx:[Var] update type for Variable('output_label', 'output_label', type=Int64TensorType(shape=[None]))\n",
            "DEBUG:skl2onnx:[Shape-b] Operator(type='SklearnZipMap', onnx_name='SklearnZipMap', inputs='label,probabilities', outputs='output_label,output_probability', raw_operator=None) inputs=[Variable('label', 'label', type=Int64TensorType(shape=[None])), Variable('probabilities', 'probabilities', type=FloatTensorType(shape=[None, 2]))] - outputs=[Variable('output_label', 'output_label', type=Int64TensorType(shape=[None])), Variable('output_probability', 'output_probability', type=SequenceType(element_type=DictionaryType(key_type=Int64TensorType(shape=[None]), value_type=FloatTensorType(shape=[]))))]\n",
            "DEBUG:skl2onnx:[Conv] call Operator(type='SklearnZipMap', onnx_name='SklearnZipMap', inputs='label,probabilities', outputs='output_label,output_probability', raw_operator=None) fed 'TrueTrue' - 'FalseFalse'\n",
            "DEBUG:skl2onnx:[Node] 'Cast' - 'label' -> 'output_label' (name='Cast')\n",
            "DEBUG:skl2onnx:[Node] 'ZipMap' - 'probabilities' -> 'output_probability' (name='ZipMap')\n",
            "DEBUG:skl2onnx:[Conv] end - Operator(type='SklearnZipMap', onnx_name='SklearnZipMap', inputs='label,probabilities', outputs='output_label,output_probability', raw_operator=None)\n",
            "DEBUG:skl2onnx:[Op] update is_evaluated=True for Operator(type='SklearnZipMap', onnx_name='SklearnZipMap', inputs='label,probabilities', outputs='output_label,output_probability', raw_operator=None)\n",
            "DEBUG:skl2onnx:[Var] update is_fed=True for Variable('output_label', 'output_label', type=Int64TensorType(shape=[None])), parent=Operator(type='SklearnZipMap', onnx_name='SklearnZipMap', inputs='label,probabilities', outputs='output_label,output_probability', raw_operator=None)\n",
            "DEBUG:skl2onnx:[Var] update is_fed=True for Variable('output_probability', 'output_probability', type=SequenceType(element_type=DictionaryType(key_type=Int64TensorType(shape=[None]), value_type=FloatTensorType(shape=[])))), parent=Operator(type='SklearnZipMap', onnx_name='SklearnZipMap', inputs='label,probabilities', outputs='output_label,output_probability', raw_operator=None)\n",
            "DEBUG:skl2onnx:[Var] +Variable('float_input', 'float_input', type=FloatTensorType(shape=[None, 2048]))\n",
            "DEBUG:skl2onnx:[Var] update is_root=True for Variable('float_input', 'float_input', type=FloatTensorType(shape=[None, 2048]))\n",
            "DEBUG:skl2onnx:[parsing] found alias='SklearnRandomForestClassifier' for type=<class 'sklearn.ensemble._forest.RandomForestClassifier'>.\n",
            "DEBUG:skl2onnx:[Op] +Operator(type='SklearnRandomForestClassifier', onnx_name='SklearnRandomForestClassifier', inputs='', outputs='', raw_operator=RandomForestClassifier(bootstrap=False,ccp_alpha=1.581852149464361e-06,class_weight='balanced',max_depth=31,max_features='log2',min_samples_leaf=2,min_samples_split=8,n_estimators=475,n_jobs=2))\n",
            "DEBUG:skl2onnx:[Op] add In Variable('float_input', 'float_input', type=FloatTensorType(shape=[None, 2048])) to Operator(type='SklearnRandomForestClassifier', onnx_name='SklearnRandomForestClassifier', inputs='float_input', outputs='', raw_operator=RandomForestClassifier(bootstrap=False,ccp_alpha=1.581852149464361e-06,class_weight='balanced',max_depth=31,max_features='log2',min_samples_leaf=2,min_samples_split=8,n_estimators=475,n_jobs=2))\n",
            "DEBUG:skl2onnx:[Var] +Variable('label', 'label', type=Int64TensorType(shape=[]))\n",
            "DEBUG:skl2onnx:[Var] +Variable('probabilities', 'probabilities', type=FloatTensorType(shape=[]))\n",
            "DEBUG:skl2onnx:[Var] set parent for Variable('label', 'label', type=Int64TensorType(shape=[])), parent=Operator(type='SklearnRandomForestClassifier', onnx_name='SklearnRandomForestClassifier', inputs='float_input', outputs='', raw_operator=RandomForestClassifier(bootstrap=False,ccp_alpha=1.581852149464361e-06,class_weight='balanced',max_depth=31,max_features='log2',min_samples_leaf=2,min_samples_split=8,n_estimators=475,n_jobs=2))\n",
            "DEBUG:skl2onnx:[Op] add Out Variable('label', 'label', type=Int64TensorType(shape=[])) to Operator(type='SklearnRandomForestClassifier', onnx_name='SklearnRandomForestClassifier', inputs='float_input', outputs='label', raw_operator=RandomForestClassifier(bootstrap=False,ccp_alpha=1.581852149464361e-06,class_weight='balanced',max_depth=31,max_features='log2',min_samples_leaf=2,min_samples_split=8,n_estimators=475,n_jobs=2))\n",
            "DEBUG:skl2onnx:[Var] set parent for Variable('probabilities', 'probabilities', type=FloatTensorType(shape=[])), parent=Operator(type='SklearnRandomForestClassifier', onnx_name='SklearnRandomForestClassifier', inputs='float_input', outputs='label', raw_operator=RandomForestClassifier(bootstrap=False,ccp_alpha=1.581852149464361e-06,class_weight='balanced',max_depth=31,max_features='log2',min_samples_leaf=2,min_samples_split=8,n_estimators=475,n_jobs=2))\n",
            "DEBUG:skl2onnx:[Op] add Out Variable('probabilities', 'probabilities', type=FloatTensorType(shape=[])) to Operator(type='SklearnRandomForestClassifier', onnx_name='SklearnRandomForestClassifier', inputs='float_input', outputs='label,probabilities', raw_operator=RandomForestClassifier(bootstrap=False,ccp_alpha=1.581852149464361e-06,class_weight='balanced',max_depth=31,max_features='log2',min_samples_leaf=2,min_samples_split=8,n_estimators=475,n_jobs=2))\n",
            "DEBUG:skl2onnx:[Op] +Operator(type='SklearnZipMap', onnx_name='SklearnZipMap', inputs='', outputs='', raw_operator=None)\n",
            "DEBUG:skl2onnx:[Var] +Variable('output_label', 'output_label', type=Int64TensorType(shape=[None]))\n",
            "DEBUG:skl2onnx:[Var] set parent for Variable('output_label', 'output_label', type=Int64TensorType(shape=[None])), parent=Operator(type='SklearnZipMap', onnx_name='SklearnZipMap', inputs='label,probabilities', outputs='', raw_operator=None)\n",
            "DEBUG:skl2onnx:[Op] add Out Variable('output_label', 'output_label', type=Int64TensorType(shape=[None])) to Operator(type='SklearnZipMap', onnx_name='SklearnZipMap', inputs='label,probabilities', outputs='output_label', raw_operator=None)\n",
            "DEBUG:skl2onnx:[Var] +Variable('output_probability', 'output_probability', type=SequenceType(element_type=DictionaryType(key_type=Int64TensorType(shape=[None]), value_type=FloatTensorType(shape=[]))))\n",
            "DEBUG:skl2onnx:[Var] set parent for Variable('output_probability', 'output_probability', type=SequenceType(element_type=DictionaryType(key_type=Int64TensorType(shape=[None]), value_type=FloatTensorType(shape=[])))), parent=Operator(type='SklearnZipMap', onnx_name='SklearnZipMap', inputs='label,probabilities', outputs='output_label', raw_operator=None)\n",
            "DEBUG:skl2onnx:[Op] add Out Variable('output_probability', 'output_probability', type=SequenceType(element_type=DictionaryType(key_type=Int64TensorType(shape=[None]), value_type=FloatTensorType(shape=[])))) to Operator(type='SklearnZipMap', onnx_name='SklearnZipMap', inputs='label,probabilities', outputs='output_label,output_probability', raw_operator=None)\n",
            "DEBUG:skl2onnx:[Op] update is_evaluated=True for Operator(type='SklearnZipMap', onnx_name='SklearnZipMap', inputs='label,probabilities', outputs='output_label,output_probability', raw_operator=None)\n",
            "DEBUG:skl2onnx:[Var] update is_leaf=True for Variable('output_label', 'output_label', type=Int64TensorType(shape=[None]))\n",
            "DEBUG:skl2onnx:[Var] update is_leaf=True for Variable('output_probability', 'output_probability', type=SequenceType(element_type=DictionaryType(key_type=Int64TensorType(shape=[None]), value_type=FloatTensorType(shape=[]))))\n",
            "DEBUG:skl2onnx:[Var] update is_fed=True for Variable('float_input', 'float_input', type=FloatTensorType(shape=[None, 2048])), parent=None\n",
            "DEBUG:skl2onnx:[Var] update is_fed=False for Variable('label', 'label', type=Int64TensorType(shape=[])), parent=Operator(type='SklearnRandomForestClassifier', onnx_name='SklearnRandomForestClassifier', inputs='float_input', outputs='label,probabilities', raw_operator=RandomForestClassifier(bootstrap=False,ccp_alpha=1.581852149464361e-06,class_weight='balanced',max_depth=31,max_features='log2',min_samples_leaf=2,min_samples_split=8,n_estimators=475,n_jobs=2))\n",
            "DEBUG:skl2onnx:[Var] update is_fed=False for Variable('probabilities', 'probabilities', type=FloatTensorType(shape=[])), parent=Operator(type='SklearnRandomForestClassifier', onnx_name='SklearnRandomForestClassifier', inputs='float_input', outputs='label,probabilities', raw_operator=RandomForestClassifier(bootstrap=False,ccp_alpha=1.581852149464361e-06,class_weight='balanced',max_depth=31,max_features='log2',min_samples_leaf=2,min_samples_split=8,n_estimators=475,n_jobs=2))\n",
            "DEBUG:skl2onnx:[Var] update is_fed=False for Variable('output_label', 'output_label', type=Int64TensorType(shape=[None])), parent=Operator(type='SklearnZipMap', onnx_name='SklearnZipMap', inputs='label,probabilities', outputs='output_label,output_probability', raw_operator=None)\n",
            "DEBUG:skl2onnx:[Var] update is_fed=False for Variable('output_probability', 'output_probability', type=SequenceType(element_type=DictionaryType(key_type=Int64TensorType(shape=[None]), value_type=FloatTensorType(shape=[])))), parent=Operator(type='SklearnZipMap', onnx_name='SklearnZipMap', inputs='label,probabilities', outputs='output_label,output_probability', raw_operator=None)\n",
            "DEBUG:skl2onnx:[Op] update is_evaluated=False for Operator(type='SklearnRandomForestClassifier', onnx_name='SklearnRandomForestClassifier', inputs='float_input', outputs='label,probabilities', raw_operator=RandomForestClassifier(bootstrap=False,ccp_alpha=1.581852149464361e-06,class_weight='balanced',max_depth=31,max_features='log2',min_samples_leaf=2,min_samples_split=8,n_estimators=475,n_jobs=2))\n",
            "DEBUG:skl2onnx:[Op] update is_evaluated=False for Operator(type='SklearnZipMap', onnx_name='SklearnZipMap', inputs='label,probabilities', outputs='output_label,output_probability', raw_operator=None)\n",
            "DEBUG:skl2onnx:[Shape2] call infer_types for Operator(type='SklearnRandomForestClassifier', onnx_name='SklearnRandomForestClassifier', inputs='float_input', outputs='label,probabilities', raw_operator=RandomForestClassifier(bootstrap=False,ccp_alpha=1.581852149464361e-06,class_weight='balanced',max_depth=31,max_features='log2',min_samples_leaf=2,min_samples_split=8,n_estimators=475,n_jobs=2))\n",
            "DEBUG:skl2onnx:[Shape-a] Operator(type='SklearnRandomForestClassifier', onnx_name='SklearnRandomForestClassifier', inputs='float_input', outputs='label,probabilities', raw_operator=RandomForestClassifier(bootstrap=False,ccp_alpha=1.581852149464361e-06,class_weight='balanced',max_depth=31,max_features='log2',min_samples_leaf=2,min_samples_split=8,n_estimators=475,n_jobs=2)) fed 'True' - 'FalseFalse'\n",
            "DEBUG:skl2onnx:[Var] update type for Variable('label', 'label', type=Int64TensorType(shape=[]))\n",
            "DEBUG:skl2onnx:[Shape-b] Operator(type='SklearnRandomForestClassifier', onnx_name='SklearnRandomForestClassifier', inputs='float_input', outputs='label,probabilities', raw_operator=RandomForestClassifier(bootstrap=False,ccp_alpha=1.581852149464361e-06,class_weight='balanced',max_depth=31,max_features='log2',min_samples_leaf=2,min_samples_split=8,n_estimators=475,n_jobs=2)) inputs=[Variable('float_input', 'float_input', type=FloatTensorType(shape=[None, 2048]))] - outputs=[Variable('label', 'label', type=Int64TensorType(shape=[None])), Variable('probabilities', 'probabilities', type=FloatTensorType(shape=[None, 2]))]\n",
            "DEBUG:skl2onnx:[Conv] call Operator(type='SklearnRandomForestClassifier', onnx_name='SklearnRandomForestClassifier', inputs='float_input', outputs='label,probabilities', raw_operator=RandomForestClassifier(bootstrap=False,ccp_alpha=1.581852149464361e-06,class_weight='balanced',max_depth=31,max_features='log2',min_samples_leaf=2,min_samples_split=8,n_estimators=475,n_jobs=2)) fed 'True' - 'FalseFalse'\n",
            "DEBUG:skl2onnx:[Node] 'TreeEnsembleClassifier' - 'float_input' -> 'label,probabilities' (name='TreeEnsembleClassifier')\n",
            "DEBUG:skl2onnx:[Conv] end - Operator(type='SklearnRandomForestClassifier', onnx_name='SklearnRandomForestClassifier', inputs='float_input', outputs='label,probabilities', raw_operator=RandomForestClassifier(bootstrap=False,ccp_alpha=1.581852149464361e-06,class_weight='balanced',max_depth=31,max_features='log2',min_samples_leaf=2,min_samples_split=8,n_estimators=475,n_jobs=2))\n",
            "DEBUG:skl2onnx:[Op] update is_evaluated=True for Operator(type='SklearnRandomForestClassifier', onnx_name='SklearnRandomForestClassifier', inputs='float_input', outputs='label,probabilities', raw_operator=RandomForestClassifier(bootstrap=False,ccp_alpha=1.581852149464361e-06,class_weight='balanced',max_depth=31,max_features='log2',min_samples_leaf=2,min_samples_split=8,n_estimators=475,n_jobs=2))\n",
            "DEBUG:skl2onnx:[Var] update is_fed=True for Variable('label', 'label', type=Int64TensorType(shape=[None])), parent=Operator(type='SklearnRandomForestClassifier', onnx_name='SklearnRandomForestClassifier', inputs='float_input', outputs='label,probabilities', raw_operator=RandomForestClassifier(bootstrap=False,ccp_alpha=1.581852149464361e-06,class_weight='balanced',max_depth=31,max_features='log2',min_samples_leaf=2,min_samples_split=8,n_estimators=475,n_jobs=2))\n",
            "DEBUG:skl2onnx:[Var] update is_fed=True for Variable('probabilities', 'probabilities', type=FloatTensorType(shape=[None, 2])), parent=Operator(type='SklearnRandomForestClassifier', onnx_name='SklearnRandomForestClassifier', inputs='float_input', outputs='label,probabilities', raw_operator=RandomForestClassifier(bootstrap=False,ccp_alpha=1.581852149464361e-06,class_weight='balanced',max_depth=31,max_features='log2',min_samples_leaf=2,min_samples_split=8,n_estimators=475,n_jobs=2))\n",
            "DEBUG:skl2onnx:[Shape2] call infer_types for Operator(type='SklearnZipMap', onnx_name='SklearnZipMap', inputs='label,probabilities', outputs='output_label,output_probability', raw_operator=None)\n",
            "DEBUG:skl2onnx:[Shape-a] Operator(type='SklearnZipMap', onnx_name='SklearnZipMap', inputs='label,probabilities', outputs='output_label,output_probability', raw_operator=None) fed 'TrueTrue' - 'FalseFalse'\n",
            "DEBUG:skl2onnx:[Var] update type for Variable('output_label', 'output_label', type=Int64TensorType(shape=[None]))\n",
            "DEBUG:skl2onnx:[Shape-b] Operator(type='SklearnZipMap', onnx_name='SklearnZipMap', inputs='label,probabilities', outputs='output_label,output_probability', raw_operator=None) inputs=[Variable('label', 'label', type=Int64TensorType(shape=[None])), Variable('probabilities', 'probabilities', type=FloatTensorType(shape=[None, 2]))] - outputs=[Variable('output_label', 'output_label', type=Int64TensorType(shape=[None])), Variable('output_probability', 'output_probability', type=SequenceType(element_type=DictionaryType(key_type=Int64TensorType(shape=[None]), value_type=FloatTensorType(shape=[]))))]\n",
            "DEBUG:skl2onnx:[Conv] call Operator(type='SklearnZipMap', onnx_name='SklearnZipMap', inputs='label,probabilities', outputs='output_label,output_probability', raw_operator=None) fed 'TrueTrue' - 'FalseFalse'\n",
            "DEBUG:skl2onnx:[Node] 'Cast' - 'label' -> 'output_label' (name='Cast')\n",
            "DEBUG:skl2onnx:[Node] 'ZipMap' - 'probabilities' -> 'output_probability' (name='ZipMap')\n",
            "DEBUG:skl2onnx:[Conv] end - Operator(type='SklearnZipMap', onnx_name='SklearnZipMap', inputs='label,probabilities', outputs='output_label,output_probability', raw_operator=None)\n",
            "DEBUG:skl2onnx:[Op] update is_evaluated=True for Operator(type='SklearnZipMap', onnx_name='SklearnZipMap', inputs='label,probabilities', outputs='output_label,output_probability', raw_operator=None)\n",
            "DEBUG:skl2onnx:[Var] update is_fed=True for Variable('output_label', 'output_label', type=Int64TensorType(shape=[None])), parent=Operator(type='SklearnZipMap', onnx_name='SklearnZipMap', inputs='label,probabilities', outputs='output_label,output_probability', raw_operator=None)\n",
            "DEBUG:skl2onnx:[Var] update is_fed=True for Variable('output_probability', 'output_probability', type=SequenceType(element_type=DictionaryType(key_type=Int64TensorType(shape=[None]), value_type=FloatTensorType(shape=[])))), parent=Operator(type='SklearnZipMap', onnx_name='SklearnZipMap', inputs='label,probabilities', outputs='output_label,output_probability', raw_operator=None)\n",
            "DEBUG:skl2onnx:[Var] +Variable('float_input', 'float_input', type=FloatTensorType(shape=[None, 2048]))\n",
            "DEBUG:skl2onnx:[Var] update is_root=True for Variable('float_input', 'float_input', type=FloatTensorType(shape=[None, 2048]))\n",
            "DEBUG:skl2onnx:[parsing] found alias='SklearnRandomForestClassifier' for type=<class 'sklearn.ensemble._forest.RandomForestClassifier'>.\n",
            "DEBUG:skl2onnx:[Op] +Operator(type='SklearnRandomForestClassifier', onnx_name='SklearnRandomForestClassifier', inputs='', outputs='', raw_operator=RandomForestClassifier(bootstrap=False,ccp_alpha=1.581852149464361e-06,class_weight='balanced',max_depth=31,max_features='log2',min_samples_leaf=2,min_samples_split=8,n_estimators=475,n_jobs=2))\n",
            "DEBUG:skl2onnx:[Op] add In Variable('float_input', 'float_input', type=FloatTensorType(shape=[None, 2048])) to Operator(type='SklearnRandomForestClassifier', onnx_name='SklearnRandomForestClassifier', inputs='float_input', outputs='', raw_operator=RandomForestClassifier(bootstrap=False,ccp_alpha=1.581852149464361e-06,class_weight='balanced',max_depth=31,max_features='log2',min_samples_leaf=2,min_samples_split=8,n_estimators=475,n_jobs=2))\n",
            "DEBUG:skl2onnx:[Var] +Variable('label', 'label', type=Int64TensorType(shape=[]))\n",
            "DEBUG:skl2onnx:[Var] +Variable('probabilities', 'probabilities', type=FloatTensorType(shape=[]))\n",
            "DEBUG:skl2onnx:[Var] set parent for Variable('label', 'label', type=Int64TensorType(shape=[])), parent=Operator(type='SklearnRandomForestClassifier', onnx_name='SklearnRandomForestClassifier', inputs='float_input', outputs='', raw_operator=RandomForestClassifier(bootstrap=False,ccp_alpha=1.581852149464361e-06,class_weight='balanced',max_depth=31,max_features='log2',min_samples_leaf=2,min_samples_split=8,n_estimators=475,n_jobs=2))\n",
            "DEBUG:skl2onnx:[Op] add Out Variable('label', 'label', type=Int64TensorType(shape=[])) to Operator(type='SklearnRandomForestClassifier', onnx_name='SklearnRandomForestClassifier', inputs='float_input', outputs='label', raw_operator=RandomForestClassifier(bootstrap=False,ccp_alpha=1.581852149464361e-06,class_weight='balanced',max_depth=31,max_features='log2',min_samples_leaf=2,min_samples_split=8,n_estimators=475,n_jobs=2))\n",
            "DEBUG:skl2onnx:[Var] set parent for Variable('probabilities', 'probabilities', type=FloatTensorType(shape=[])), parent=Operator(type='SklearnRandomForestClassifier', onnx_name='SklearnRandomForestClassifier', inputs='float_input', outputs='label', raw_operator=RandomForestClassifier(bootstrap=False,ccp_alpha=1.581852149464361e-06,class_weight='balanced',max_depth=31,max_features='log2',min_samples_leaf=2,min_samples_split=8,n_estimators=475,n_jobs=2))\n",
            "DEBUG:skl2onnx:[Op] add Out Variable('probabilities', 'probabilities', type=FloatTensorType(shape=[])) to Operator(type='SklearnRandomForestClassifier', onnx_name='SklearnRandomForestClassifier', inputs='float_input', outputs='label,probabilities', raw_operator=RandomForestClassifier(bootstrap=False,ccp_alpha=1.581852149464361e-06,class_weight='balanced',max_depth=31,max_features='log2',min_samples_leaf=2,min_samples_split=8,n_estimators=475,n_jobs=2))\n",
            "DEBUG:skl2onnx:[Op] +Operator(type='SklearnZipMap', onnx_name='SklearnZipMap', inputs='', outputs='', raw_operator=None)\n",
            "DEBUG:skl2onnx:[Var] +Variable('output_label', 'output_label', type=Int64TensorType(shape=[None]))\n",
            "DEBUG:skl2onnx:[Var] set parent for Variable('output_label', 'output_label', type=Int64TensorType(shape=[None])), parent=Operator(type='SklearnZipMap', onnx_name='SklearnZipMap', inputs='label,probabilities', outputs='', raw_operator=None)\n",
            "DEBUG:skl2onnx:[Op] add Out Variable('output_label', 'output_label', type=Int64TensorType(shape=[None])) to Operator(type='SklearnZipMap', onnx_name='SklearnZipMap', inputs='label,probabilities', outputs='output_label', raw_operator=None)\n",
            "DEBUG:skl2onnx:[Var] +Variable('output_probability', 'output_probability', type=SequenceType(element_type=DictionaryType(key_type=Int64TensorType(shape=[None]), value_type=FloatTensorType(shape=[]))))\n",
            "DEBUG:skl2onnx:[Var] set parent for Variable('output_probability', 'output_probability', type=SequenceType(element_type=DictionaryType(key_type=Int64TensorType(shape=[None]), value_type=FloatTensorType(shape=[])))), parent=Operator(type='SklearnZipMap', onnx_name='SklearnZipMap', inputs='label,probabilities', outputs='output_label', raw_operator=None)\n",
            "DEBUG:skl2onnx:[Op] add Out Variable('output_probability', 'output_probability', type=SequenceType(element_type=DictionaryType(key_type=Int64TensorType(shape=[None]), value_type=FloatTensorType(shape=[])))) to Operator(type='SklearnZipMap', onnx_name='SklearnZipMap', inputs='label,probabilities', outputs='output_label,output_probability', raw_operator=None)\n",
            "DEBUG:skl2onnx:[Op] update is_evaluated=True for Operator(type='SklearnZipMap', onnx_name='SklearnZipMap', inputs='label,probabilities', outputs='output_label,output_probability', raw_operator=None)\n",
            "DEBUG:skl2onnx:[Var] update is_leaf=True for Variable('output_label', 'output_label', type=Int64TensorType(shape=[None]))\n",
            "DEBUG:skl2onnx:[Var] update is_leaf=True for Variable('output_probability', 'output_probability', type=SequenceType(element_type=DictionaryType(key_type=Int64TensorType(shape=[None]), value_type=FloatTensorType(shape=[]))))\n",
            "DEBUG:skl2onnx:[Var] update is_fed=True for Variable('float_input', 'float_input', type=FloatTensorType(shape=[None, 2048])), parent=None\n",
            "DEBUG:skl2onnx:[Var] update is_fed=False for Variable('label', 'label', type=Int64TensorType(shape=[])), parent=Operator(type='SklearnRandomForestClassifier', onnx_name='SklearnRandomForestClassifier', inputs='float_input', outputs='label,probabilities', raw_operator=RandomForestClassifier(bootstrap=False,ccp_alpha=1.581852149464361e-06,class_weight='balanced',max_depth=31,max_features='log2',min_samples_leaf=2,min_samples_split=8,n_estimators=475,n_jobs=2))\n",
            "DEBUG:skl2onnx:[Var] update is_fed=False for Variable('probabilities', 'probabilities', type=FloatTensorType(shape=[])), parent=Operator(type='SklearnRandomForestClassifier', onnx_name='SklearnRandomForestClassifier', inputs='float_input', outputs='label,probabilities', raw_operator=RandomForestClassifier(bootstrap=False,ccp_alpha=1.581852149464361e-06,class_weight='balanced',max_depth=31,max_features='log2',min_samples_leaf=2,min_samples_split=8,n_estimators=475,n_jobs=2))\n",
            "DEBUG:skl2onnx:[Var] update is_fed=False for Variable('output_label', 'output_label', type=Int64TensorType(shape=[None])), parent=Operator(type='SklearnZipMap', onnx_name='SklearnZipMap', inputs='label,probabilities', outputs='output_label,output_probability', raw_operator=None)\n",
            "DEBUG:skl2onnx:[Var] update is_fed=False for Variable('output_probability', 'output_probability', type=SequenceType(element_type=DictionaryType(key_type=Int64TensorType(shape=[None]), value_type=FloatTensorType(shape=[])))), parent=Operator(type='SklearnZipMap', onnx_name='SklearnZipMap', inputs='label,probabilities', outputs='output_label,output_probability', raw_operator=None)\n",
            "DEBUG:skl2onnx:[Op] update is_evaluated=False for Operator(type='SklearnRandomForestClassifier', onnx_name='SklearnRandomForestClassifier', inputs='float_input', outputs='label,probabilities', raw_operator=RandomForestClassifier(bootstrap=False,ccp_alpha=1.581852149464361e-06,class_weight='balanced',max_depth=31,max_features='log2',min_samples_leaf=2,min_samples_split=8,n_estimators=475,n_jobs=2))\n",
            "DEBUG:skl2onnx:[Op] update is_evaluated=False for Operator(type='SklearnZipMap', onnx_name='SklearnZipMap', inputs='label,probabilities', outputs='output_label,output_probability', raw_operator=None)\n",
            "DEBUG:skl2onnx:[Shape2] call infer_types for Operator(type='SklearnRandomForestClassifier', onnx_name='SklearnRandomForestClassifier', inputs='float_input', outputs='label,probabilities', raw_operator=RandomForestClassifier(bootstrap=False,ccp_alpha=1.581852149464361e-06,class_weight='balanced',max_depth=31,max_features='log2',min_samples_leaf=2,min_samples_split=8,n_estimators=475,n_jobs=2))\n",
            "DEBUG:skl2onnx:[Shape-a] Operator(type='SklearnRandomForestClassifier', onnx_name='SklearnRandomForestClassifier', inputs='float_input', outputs='label,probabilities', raw_operator=RandomForestClassifier(bootstrap=False,ccp_alpha=1.581852149464361e-06,class_weight='balanced',max_depth=31,max_features='log2',min_samples_leaf=2,min_samples_split=8,n_estimators=475,n_jobs=2)) fed 'True' - 'FalseFalse'\n",
            "DEBUG:skl2onnx:[Var] update type for Variable('label', 'label', type=Int64TensorType(shape=[]))\n",
            "DEBUG:skl2onnx:[Shape-b] Operator(type='SklearnRandomForestClassifier', onnx_name='SklearnRandomForestClassifier', inputs='float_input', outputs='label,probabilities', raw_operator=RandomForestClassifier(bootstrap=False,ccp_alpha=1.581852149464361e-06,class_weight='balanced',max_depth=31,max_features='log2',min_samples_leaf=2,min_samples_split=8,n_estimators=475,n_jobs=2)) inputs=[Variable('float_input', 'float_input', type=FloatTensorType(shape=[None, 2048]))] - outputs=[Variable('label', 'label', type=Int64TensorType(shape=[None])), Variable('probabilities', 'probabilities', type=FloatTensorType(shape=[None, 2]))]\n",
            "DEBUG:skl2onnx:[Conv] call Operator(type='SklearnRandomForestClassifier', onnx_name='SklearnRandomForestClassifier', inputs='float_input', outputs='label,probabilities', raw_operator=RandomForestClassifier(bootstrap=False,ccp_alpha=1.581852149464361e-06,class_weight='balanced',max_depth=31,max_features='log2',min_samples_leaf=2,min_samples_split=8,n_estimators=475,n_jobs=2)) fed 'True' - 'FalseFalse'\n",
            "DEBUG:skl2onnx:[Node] 'TreeEnsembleClassifier' - 'float_input' -> 'label,probabilities' (name='TreeEnsembleClassifier')\n",
            "DEBUG:skl2onnx:[Conv] end - Operator(type='SklearnRandomForestClassifier', onnx_name='SklearnRandomForestClassifier', inputs='float_input', outputs='label,probabilities', raw_operator=RandomForestClassifier(bootstrap=False,ccp_alpha=1.581852149464361e-06,class_weight='balanced',max_depth=31,max_features='log2',min_samples_leaf=2,min_samples_split=8,n_estimators=475,n_jobs=2))\n",
            "DEBUG:skl2onnx:[Op] update is_evaluated=True for Operator(type='SklearnRandomForestClassifier', onnx_name='SklearnRandomForestClassifier', inputs='float_input', outputs='label,probabilities', raw_operator=RandomForestClassifier(bootstrap=False,ccp_alpha=1.581852149464361e-06,class_weight='balanced',max_depth=31,max_features='log2',min_samples_leaf=2,min_samples_split=8,n_estimators=475,n_jobs=2))\n",
            "DEBUG:skl2onnx:[Var] update is_fed=True for Variable('label', 'label', type=Int64TensorType(shape=[None])), parent=Operator(type='SklearnRandomForestClassifier', onnx_name='SklearnRandomForestClassifier', inputs='float_input', outputs='label,probabilities', raw_operator=RandomForestClassifier(bootstrap=False,ccp_alpha=1.581852149464361e-06,class_weight='balanced',max_depth=31,max_features='log2',min_samples_leaf=2,min_samples_split=8,n_estimators=475,n_jobs=2))\n",
            "DEBUG:skl2onnx:[Var] update is_fed=True for Variable('probabilities', 'probabilities', type=FloatTensorType(shape=[None, 2])), parent=Operator(type='SklearnRandomForestClassifier', onnx_name='SklearnRandomForestClassifier', inputs='float_input', outputs='label,probabilities', raw_operator=RandomForestClassifier(bootstrap=False,ccp_alpha=1.581852149464361e-06,class_weight='balanced',max_depth=31,max_features='log2',min_samples_leaf=2,min_samples_split=8,n_estimators=475,n_jobs=2))\n",
            "DEBUG:skl2onnx:[Shape2] call infer_types for Operator(type='SklearnZipMap', onnx_name='SklearnZipMap', inputs='label,probabilities', outputs='output_label,output_probability', raw_operator=None)\n",
            "DEBUG:skl2onnx:[Shape-a] Operator(type='SklearnZipMap', onnx_name='SklearnZipMap', inputs='label,probabilities', outputs='output_label,output_probability', raw_operator=None) fed 'TrueTrue' - 'FalseFalse'\n",
            "DEBUG:skl2onnx:[Var] update type for Variable('output_label', 'output_label', type=Int64TensorType(shape=[None]))\n",
            "DEBUG:skl2onnx:[Shape-b] Operator(type='SklearnZipMap', onnx_name='SklearnZipMap', inputs='label,probabilities', outputs='output_label,output_probability', raw_operator=None) inputs=[Variable('label', 'label', type=Int64TensorType(shape=[None])), Variable('probabilities', 'probabilities', type=FloatTensorType(shape=[None, 2]))] - outputs=[Variable('output_label', 'output_label', type=Int64TensorType(shape=[None])), Variable('output_probability', 'output_probability', type=SequenceType(element_type=DictionaryType(key_type=Int64TensorType(shape=[None]), value_type=FloatTensorType(shape=[]))))]\n",
            "DEBUG:skl2onnx:[Conv] call Operator(type='SklearnZipMap', onnx_name='SklearnZipMap', inputs='label,probabilities', outputs='output_label,output_probability', raw_operator=None) fed 'TrueTrue' - 'FalseFalse'\n",
            "DEBUG:skl2onnx:[Node] 'Cast' - 'label' -> 'output_label' (name='Cast')\n",
            "DEBUG:skl2onnx:[Node] 'ZipMap' - 'probabilities' -> 'output_probability' (name='ZipMap')\n",
            "DEBUG:skl2onnx:[Conv] end - Operator(type='SklearnZipMap', onnx_name='SklearnZipMap', inputs='label,probabilities', outputs='output_label,output_probability', raw_operator=None)\n",
            "DEBUG:skl2onnx:[Op] update is_evaluated=True for Operator(type='SklearnZipMap', onnx_name='SklearnZipMap', inputs='label,probabilities', outputs='output_label,output_probability', raw_operator=None)\n",
            "DEBUG:skl2onnx:[Var] update is_fed=True for Variable('output_label', 'output_label', type=Int64TensorType(shape=[None])), parent=Operator(type='SklearnZipMap', onnx_name='SklearnZipMap', inputs='label,probabilities', outputs='output_label,output_probability', raw_operator=None)\n",
            "DEBUG:skl2onnx:[Var] update is_fed=True for Variable('output_probability', 'output_probability', type=SequenceType(element_type=DictionaryType(key_type=Int64TensorType(shape=[None]), value_type=FloatTensorType(shape=[])))), parent=Operator(type='SklearnZipMap', onnx_name='SklearnZipMap', inputs='label,probabilities', outputs='output_label,output_probability', raw_operator=None)\n"
          ]
        }
      ],
      "source": [
        "# Build models\n",
        "from hestia import SimArguments, HestiaGenerator\n",
        "\n",
        "# Sim args - Option 1 - Fingerprint MAPc\n",
        "sim_args_mapc = SimArguments(\n",
        "    data_type='small molecule',\n",
        "    field_name='apml-smiles',\n",
        "    min_threshold=0.1,\n",
        "    sim_function='jaccard',\n",
        "    fingerprint='mapc',\n",
        "    radius=4,\n",
        "    bits=1024,\n",
        "    verbose=3\n",
        ")\n",
        "\n",
        "# Sim args - Option 2 - Fingerprint ECFP\n",
        "sim_args_ecfp = SimArguments(\n",
        "    data_type='small molecule',\n",
        "    field_name='apml-smiles',\n",
        "    min_threshold=0.1,\n",
        "    sim_function='tanimoto',\n",
        "    fingerprint='ecfp',\n",
        "    radius=4,\n",
        "    bits=1024,\n",
        "    verbose=3\n",
        ")\n",
        "\n",
        "# Sim args - Option 3 - Sequence similarity MMSeqs2\n",
        "sim_args_seq = SimArguments(\n",
        "    data_type='sequence',\n",
        "    field_name='apml-seqs',\n",
        "    min_threshold=0.1,\n",
        "    alignment_algorithm='mmseqs',\n",
        "    prefilter=True,\n",
        "    denominator='n_aligned',\n",
        "    verbose=3\n",
        ")\n",
        "\n",
        "apml.build_models(task='class',\n",
        "                  reps=['ecfp', 'chemberta-2', 'peptideclm'], # Options: chemberta-2, peptideclm, molformer, fcfp, esm2-8m\n",
        "                  #device='cuda', # Change to cuda if using hardware acceleartion\n",
        "                  models=['svm', 'rf', 'xgboost'], # Options: knn, svm, rf, xgboost, lightgbm\n",
        "                  split_strategy='min',\n",
        "                  sim_args=sim_args_ecfp, # Options: sim_args_ecfp, sim_args_mapc, sim_args_\n",
        "                  n_trials=50)"
      ]
    },
    {
      "cell_type": "code",
      "execution_count": 14,
      "id": "50e2fb75",
      "metadata": {
        "id": "50e2fb75",
        "outputId": "519873c9-4853-4017-b017-bd75ac7b6db0",
        "colab": {
          "base_uri": "https://localhost:8080/",
          "height": 536
        }
      },
      "outputs": [
        {
          "output_type": "execute_result",
          "data": {
            "text/plain": [
              "<Axes: title={'center': 'Optimization history'}, xlabel='Trial', ylabel='MCC'>"
            ]
          },
          "metadata": {},
          "execution_count": 14
        },
        {
          "output_type": "display_data",
          "data": {
            "text/plain": [
              "<Figure size 500x500 with 1 Axes>"
            ],
            "image/png": "[encoded data removed]"
          },
          "metadata": {}
        }
      ],
      "source": [
        "from autopeptideml.utils.plots import plot_optimization_history\n",
        "\n",
        "plot_optimization_history(apml.trainer.history)"
      ]
    },
    {
      "cell_type": "code",
      "execution_count": 15,
      "id": "3c7e51fd",
      "metadata": {
        "id": "3c7e51fd",
        "outputId": "557388d4-cebc-4333-9751-d38562e2493e",
        "colab": {
          "base_uri": "https://localhost:8080/",
          "height": 500
        }
      },
      "outputs": [
        {
          "output_type": "execute_result",
          "data": {
            "text/plain": [
              "<Axes: title={'center': 'Model vs Representation (Annotated with Trial Count)'}, xlabel='Representation', ylabel='Model'>"
            ]
          },
          "metadata": {},
          "execution_count": 15
        },
        {
          "output_type": "display_data",
          "data": {
            "text/plain": [
              "<Figure size 500x500 with 2 Axes>"
            ],
            "image/png": "[encoded data removed]"
          },
          "metadata": {}
        }
      ],
      "source": [
        "from autopeptideml.utils.plots import plot_model_vs_rep\n",
        "\n",
        "plot_model_vs_rep(apml.trainer.history)"
      ]
    },
    {
      "cell_type": "code",
      "execution_count": 16,
      "id": "3b0a9414",
      "metadata": {
        "id": "3b0a9414",
        "outputId": "990aea1b-3c01-435b-a35f-7658ecf8d0cd",
        "colab": {
          "base_uri": "https://localhost:8080/",
          "height": 81
        }
      },
      "outputs": [
        {
          "output_type": "execute_result",
          "data": {
            "text/plain": [
              "        mcc   acc        f1  f1_weighted  precision    recall     auroc  tp  \\\n",
              "0  0.192324  0.66  0.403509     0.636683   0.522727  0.328571  0.621429  23   \n",
              "\n",
              "    tn  fp  fn  \n",
              "0  109  47  21  "
            ],
            "text/html": [
              "\n",
              "  <div id=\"df-4ce0292c-2160-4ebf-a4e1-575e889f47b6\" class=\"colab-df-container\">\n",
              "    <div>\n",
              "<style scoped>\n",
              "    .dataframe tbody tr th:only-of-type {\n",
              "        vertical-align: middle;\n",
              "    }\n",
              "\n",
              "    .dataframe tbody tr th {\n",
              "        vertical-align: top;\n",
              "    }\n",
              "\n",
              "    .dataframe thead th {\n",
              "        text-align: right;\n",
              "    }\n",
              "</style>\n",
              "<table border=\"1\" class=\"dataframe\">\n",
              "  <thead>\n",
              "    <tr style=\"text-align: right;\">\n",
              "      <th></th>\n",
              "      <th>mcc</th>\n",
              "      <th>acc</th>\n",
              "      <th>f1</th>\n",
              "      <th>f1_weighted</th>\n",
              "      <th>precision</th>\n",
              "      <th>recall</th>\n",
              "      <th>auroc</th>\n",
              "      <th>tp</th>\n",
              "      <th>tn</th>\n",
              "      <th>fp</th>\n",
              "      <th>fn</th>\n",
              "    </tr>\n",
              "  </thead>\n",
              "  <tbody>\n",
              "    <tr>\n",
              "      <th>0</th>\n",
              "      <td>0.192324</td>\n",
              "      <td>0.66</td>\n",
              "      <td>0.403509</td>\n",
              "      <td>0.636683</td>\n",
              "      <td>0.522727</td>\n",
              "      <td>0.328571</td>\n",
              "      <td>0.621429</td>\n",
              "      <td>23</td>\n",
              "      <td>109</td>\n",
              "      <td>47</td>\n",
              "      <td>21</td>\n",
              "    </tr>\n",
              "  </tbody>\n",
              "</table>\n",
              "</div>\n",
              "    <div class=\"colab-df-buttons\">\n",
              "\n",
              "  <div class=\"colab-df-container\">\n",
              "    <button class=\"colab-df-convert\" onclick=\"convertToInteractive('df-4ce0292c-2160-4ebf-a4e1-575e889f47b6')\"\n",
              "            title=\"Convert this dataframe to an interactive table.\"\n",
              "            style=\"display:none;\">\n",
              "\n",
              "  <svg xmlns=\"http://www.w3.org/2000/svg\" height=\"24px\" viewBox=\"0 -960 960 960\">\n",
              "    <path d=\"M120-120v-720h720v720H120Zm60-500h600v-160H180v160Zm220 220h160v-160H400v160Zm0 220h160v-160H400v160ZM180-400h160v-160H180v160Zm440 0h160v-160H620v160ZM180-180h160v-160H180v160Zm440 0h160v-160H620v160Z\"/>\n",
              "  </svg>\n",
              "    </button>\n",
              "\n",
              "  <style>\n",
              "    .colab-df-container {\n",
              "      display:flex;\n",
              "      gap: 12px;\n",
              "    }\n",
              "\n",
              "    .colab-df-convert {\n",
              "      background-color: #E8F0FE;\n",
              "      border: none;\n",
              "      border-radius: 50%;\n",
              "      cursor: pointer;\n",
              "      display: none;\n",
              "      fill: #1967D2;\n",
              "      height: 32px;\n",
              "      padding: 0 0 0 0;\n",
              "      width: 32px;\n",
              "    }\n",
              "\n",
              "    .colab-df-convert:hover {\n",
              "      background-color: #E2EBFA;\n",
              "      box-shadow: 0px 1px 2px rgba(60, 64, 67, 0.3), 0px 1px 3px 1px rgba(60, 64, 67, 0.15);\n",
              "      fill: #174EA6;\n",
              "    }\n",
              "\n",
              "    .colab-df-buttons div {\n",
              "      margin-bottom: 4px;\n",
              "    }\n",
              "\n",
              "    [theme=dark] .colab-df-convert {\n",
              "      background-color: #3B4455;\n",
              "      fill: #D2E3FC;\n",
              "    }\n",
              "\n",
              "    [theme=dark] .colab-df-convert:hover {\n",
              "      background-color: #434B5C;\n",
              "      box-shadow: 0px 1px 3px 1px rgba(0, 0, 0, 0.15);\n",
              "      filter: drop-shadow(0px 1px 2px rgba(0, 0, 0, 0.3));\n",
              "      fill: #FFFFFF;\n",
              "    }\n",
              "  </style>\n",
              "\n",
              "    <script>\n",
              "      const buttonEl =\n",
              "        document.querySelector('#df-4ce0292c-2160-4ebf-a4e1-575e889f47b6 button.colab-df-convert');\n",
              "      buttonEl.style.display =\n",
              "        google.colab.kernel.accessAllowed ? 'block' : 'none';\n",
              "\n",
              "      async function convertToInteractive(key) {\n",
              "        const element = document.querySelector('#df-4ce0292c-2160-4ebf-a4e1-575e889f47b6');\n",
              "        const dataTable =\n",
              "          await google.colab.kernel.invokeFunction('convertToInteractive',\n",
              "                                                    [key], {});\n",
              "        if (!dataTable) return;\n",
              "\n",
              "        const docLinkHtml = 'Like what you see? Visit the ' +\n",
              "          '<a target=\"_blank\" href=https://colab.research.google.com/notebooks/data_table.ipynb>data table notebook</a>'\n",
              "          + ' to learn more about interactive tables.';\n",
              "        element.innerHTML = '';\n",
              "        dataTable['output_type'] = 'display_data';\n",
              "        await google.colab.output.renderOutput(dataTable, element);\n",
              "        const docLink = document.createElement('div');\n",
              "        docLink.innerHTML = docLinkHtml;\n",
              "        element.appendChild(docLink);\n",
              "      }\n",
              "    </script>\n",
              "  </div>\n",
              "\n",
              "\n",
              "    </div>\n",
              "  </div>\n"
            ],
            "application/vnd.google.colaboratory.intrinsic+json": {
              "type": "dataframe",
              "summary": "{\n  \"name\": \"apml\",\n  \"rows\": 1,\n  \"fields\": [\n    {\n      \"column\": \"mcc\",\n      \"properties\": {\n        \"dtype\": \"number\",\n        \"std\": null,\n        \"min\": 0.19232434160362477,\n        \"max\": 0.19232434160362477,\n        \"num_unique_values\": 1,\n        \"samples\": [\n          0.19232434160362477\n        ],\n        \"semantic_type\": \"\",\n        \"description\": \"\"\n      }\n    },\n    {\n      \"column\": \"acc\",\n      \"properties\": {\n        \"dtype\": \"number\",\n        \"std\": null,\n        \"min\": 0.66,\n        \"max\": 0.66,\n        \"num_unique_values\": 1,\n        \"samples\": [\n          0.66\n        ],\n        \"semantic_type\": \"\",\n        \"description\": \"\"\n      }\n    },\n    {\n      \"column\": \"f1\",\n      \"properties\": {\n        \"dtype\": \"number\",\n        \"std\": null,\n        \"min\": 0.40350877192982454,\n        \"max\": 0.40350877192982454,\n        \"num_unique_values\": 1,\n        \"samples\": [\n          0.40350877192982454\n        ],\n        \"semantic_type\": \"\",\n        \"description\": \"\"\n      }\n    },\n    {\n      \"column\": \"f1_weighted\",\n      \"properties\": {\n        \"dtype\": \"number\",\n        \"std\": null,\n        \"min\": 0.636682615629984,\n        \"max\": 0.636682615629984,\n        \"num_unique_values\": 1,\n        \"samples\": [\n          0.636682615629984\n        ],\n        \"semantic_type\": \"\",\n        \"description\": \"\"\n      }\n    },\n    {\n      \"column\": \"precision\",\n      \"properties\": {\n        \"dtype\": \"number\",\n        \"std\": null,\n        \"min\": 0.5227272727272727,\n        \"max\": 0.5227272727272727,\n        \"num_unique_values\": 1,\n        \"samples\": [\n          0.5227272727272727\n        ],\n        \"semantic_type\": \"\",\n        \"description\": \"\"\n      }\n    },\n    {\n      \"column\": \"recall\",\n      \"properties\": {\n        \"dtype\": \"number\",\n        \"std\": null,\n        \"min\": 0.32857142857142857,\n        \"max\": 0.32857142857142857,\n        \"num_unique_values\": 1,\n        \"samples\": [\n          0.32857142857142857\n        ],\n        \"semantic_type\": \"\",\n        \"description\": \"\"\n      }\n    },\n    {\n      \"column\": \"auroc\",\n      \"properties\": {\n        \"dtype\": \"number\",\n        \"std\": null,\n        \"min\": 0.6214285714285714,\n        \"max\": 0.6214285714285714,\n        \"num_unique_values\": 1,\n        \"samples\": [\n          0.6214285714285714\n        ],\n        \"semantic_type\": \"\",\n        \"description\": \"\"\n      }\n    },\n    {\n      \"column\": \"tp\",\n      \"properties\": {\n        \"dtype\": \"number\",\n        \"std\": null,\n        \"min\": 23,\n        \"max\": 23,\n        \"num_unique_values\": 1,\n        \"samples\": [\n          23\n        ],\n        \"semantic_type\": \"\",\n        \"description\": \"\"\n      }\n    },\n    {\n      \"column\": \"tn\",\n      \"properties\": {\n        \"dtype\": \"number\",\n        \"std\": null,\n        \"min\": 109,\n        \"max\": 109,\n        \"num_unique_values\": 1,\n        \"samples\": [\n          109\n        ],\n        \"semantic_type\": \"\",\n        \"description\": \"\"\n      }\n    },\n    {\n      \"column\": \"fp\",\n      \"properties\": {\n        \"dtype\": \"number\",\n        \"std\": null,\n        \"min\": 47,\n        \"max\": 47,\n        \"num_unique_values\": 1,\n        \"samples\": [\n          47\n        ],\n        \"semantic_type\": \"\",\n        \"description\": \"\"\n      }\n    },\n    {\n      \"column\": \"fn\",\n      \"properties\": {\n        \"dtype\": \"number\",\n        \"std\": null,\n        \"min\": 21,\n        \"max\": 21,\n        \"num_unique_values\": 1,\n        \"samples\": [\n          21\n        ],\n        \"semantic_type\": \"\",\n        \"description\": \"\"\n      }\n    }\n  ]\n}"
            }
          },
          "metadata": {},
          "execution_count": 16
        }
      ],
      "source": [
        "apml._evaluating(task='class')\n",
        "apml.test_result"
      ]
    },
    {
      "cell_type": "code",
      "execution_count": null,
      "id": "e505c962",
      "metadata": {
        "id": "e505c962"
      },
      "outputs": [],
      "source": [
        "from os import path as osp\n",
        "\n",
        "input_trial = {rep: apml.x[rep][:10] for rep in apml.trainer.best_model.reps}\n",
        "preds = apml.trainer.best_model.predict(input_trial)\n",
        "\n",
        "apml.trainer.best_model.save(osp.join(apml.outputdir, 'ensemble'))"
      ]
    },
    {
      "cell_type": "code",
      "execution_count": null,
      "id": "8e0c0fe3",
      "metadata": {
        "id": "8e0c0fe3"
      },
      "outputs": [],
      "source": [
        "from autopeptideml.train.architectures import VotingEnsemble\n",
        "ensemble = VotingEnsemble.load(osp.join(apml.outputdir, 'ensemble'))\n",
        "\n",
        "\n",
        "preds = apml.trainer.best_model.predict(input_trial)[0]\n",
        "preds2 = ensemble.predict(input_trial)[0]\n"
      ]
    }
  ],
  "metadata": {
    "kernelspec": {
      "display_name": "pep2",
      "language": "python",
      "name": "python3"
    },
    "language_info": {
      "codemirror_mode": {
        "name": "ipython",
        "version": 3
      },
      "file_extension": ".py",
      "mimetype": "text/x-python",
      "name": "python",
      "nbconvert_exporter": "python",
      "pygments_lexer": "ipython3",
      "version": "3.12.11"
    },
    "colab": {
      "provenance": []
    },
    "widgets": {
      "application/vnd.jupyter.widget-state+json": {
        "ec1078e8fc6e457a8f4373895496ce96": {
          "model_module": "@jupyter-widgets/controls",
          "model_name": "HBoxModel",
          "model_module_version": "1.5.0",
          "state": {
            "_dom_classes": [],
            "_model_module": "@jupyter-widgets/controls",
            "_model_module_version": "1.5.0",
            "_model_name": "HBoxModel",
            "_view_count": null,
            "_view_module": "@jupyter-widgets/controls",
            "_view_module_version": "1.5.0",
            "_view_name": "HBoxView",
            "box_style": "",
            "children": [
              "IPY_MODEL_2664bc54a7fb4a1c800f80d2819e33b9",
              "IPY_MODEL_626eded1716e4baa80cb320c48e882e7",
              "IPY_MODEL_b7bd03f806e6445eaae65ab65282c865"
            ],
            "layout": "IPY_MODEL_5c784f441847448b99138b2a67d091c5"
          }
        },
        "2664bc54a7fb4a1c800f80d2819e33b9": {
          "model_module": "@jupyter-widgets/controls",
          "model_name": "HTMLModel",
          "model_module_version": "1.5.0",
          "state": {
            "_dom_classes": [],
            "_model_module": "@jupyter-widgets/controls",
            "_model_module_version": "1.5.0",
            "_model_name": "HTMLModel",
            "_view_count": null,
            "_view_module": "@jupyter-widgets/controls",
            "_view_module_version": "1.5.0",
            "_view_name": "HTMLView",
            "description": "",
            "description_tooltip": null,
            "layout": "IPY_MODEL_e39fa3a232624be08c99c6730c2ec8cc",
            "placeholder": "​",
            "style": "IPY_MODEL_9655068339064c798b3b0b848f6b352a",
            "value": "config.json: 100%"
          }
        },
        "626eded1716e4baa80cb320c48e882e7": {
          "model_module": "@jupyter-widgets/controls",
          "model_name": "FloatProgressModel",
          "model_module_version": "1.5.0",
          "state": {
            "_dom_classes": [],
            "_model_module": "@jupyter-widgets/controls",
            "_model_module_version": "1.5.0",
            "_model_name": "FloatProgressModel",
            "_view_count": null,
            "_view_module": "@jupyter-widgets/controls",
            "_view_module_version": "1.5.0",
            "_view_name": "ProgressView",
            "bar_style": "success",
            "description": "",
            "description_tooltip": null,
            "layout": "IPY_MODEL_e3913b90238844ad8f500fd053e91c33",
            "max": 573,
            "min": 0,
            "orientation": "horizontal",
            "style": "IPY_MODEL_fa90f91025214db4a5f974644e0c0e95",
            "value": 573
          }
        },
        "b7bd03f806e6445eaae65ab65282c865": {
          "model_module": "@jupyter-widgets/controls",
          "model_name": "HTMLModel",
          "model_module_version": "1.5.0",
          "state": {
            "_dom_classes": [],
            "_model_module": "@jupyter-widgets/controls",
            "_model_module_version": "1.5.0",
            "_model_name": "HTMLModel",
            "_view_count": null,
            "_view_module": "@jupyter-widgets/controls",
            "_view_module_version": "1.5.0",
            "_view_name": "HTMLView",
            "description": "",
            "description_tooltip": null,
            "layout": "IPY_MODEL_8246fd20f04d4f1791e55a7484284bca",
            "placeholder": "​",
            "style": "IPY_MODEL_f97abadf557644bf9a95b7a2450bb5b5",
            "value": " 573/573 [00:00&lt;00:00, 34.8kB/s]"
          }
        },
        "5c784f441847448b99138b2a67d091c5": {
          "model_module": "@jupyter-widgets/base",
          "model_name": "LayoutModel",
          "model_module_version": "1.2.0",
          "state": {
            "_model_module": "@jupyter-widgets/base",
            "_model_module_version": "1.2.0",
            "_model_name": "LayoutModel",
            "_view_count": null,
            "_view_module": "@jupyter-widgets/base",
            "_view_module_version": "1.2.0",
            "_view_name": "LayoutView",
            "align_content": null,
            "align_items": null,
            "align_self": null,
            "border": null,
            "bottom": null,
            "display": null,
            "flex": null,
            "flex_flow": null,
            "grid_area": null,
            "grid_auto_columns": null,
            "grid_auto_flow": null,
            "grid_auto_rows": null,
            "grid_column": null,
            "grid_gap": null,
            "grid_row": null,
            "grid_template_areas": null,
            "grid_template_columns": null,
            "grid_template_rows": null,
            "height": null,
            "justify_content": null,
            "justify_items": null,
            "left": null,
            "margin": null,
            "max_height": null,
            "max_width": null,
            "min_height": null,
            "min_width": null,
            "object_fit": null,
            "object_position": null,
            "order": null,
            "overflow": null,
            "overflow_x": null,
            "overflow_y": null,
            "padding": null,
            "right": null,
            "top": null,
            "visibility": null,
            "width": null
          }
        },
        "e39fa3a232624be08c99c6730c2ec8cc": {
          "model_module": "@jupyter-widgets/base",
          "model_name": "LayoutModel",
          "model_module_version": "1.2.0",
          "state": {
            "_model_module": "@jupyter-widgets/base",
            "_model_module_version": "1.2.0",
            "_model_name": "LayoutModel",
            "_view_count": null,
            "_view_module": "@jupyter-widgets/base",
            "_view_module_version": "1.2.0",
            "_view_name": "LayoutView",
            "align_content": null,
            "align_items": null,
            "align_self": null,
            "border": null,
            "bottom": null,
            "display": null,
            "flex": null,
            "flex_flow": null,
            "grid_area": null,
            "grid_auto_columns": null,
            "grid_auto_flow": null,
            "grid_auto_rows": null,
            "grid_column": null,
            "grid_gap": null,
            "grid_row": null,
            "grid_template_areas": null,
            "grid_template_columns": null,
            "grid_template_rows": null,
            "height": null,
            "justify_content": null,
            "justify_items": null,
            "left": null,
            "margin": null,
            "max_height": null,
            "max_width": null,
            "min_height": null,
            "min_width": null,
            "object_fit": null,
            "object_position": null,
            "order": null,
            "overflow": null,
            "overflow_x": null,
            "overflow_y": null,
            "padding": null,
            "right": null,
            "top": null,
            "visibility": null,
            "width": null
          }
        },
        "9655068339064c798b3b0b848f6b352a": {
          "model_module": "@jupyter-widgets/controls",
          "model_name": "DescriptionStyleModel",
          "model_module_version": "1.5.0",
          "state": {
            "_model_module": "@jupyter-widgets/controls",
            "_model_module_version": "1.5.0",
            "_model_name": "DescriptionStyleModel",
            "_view_count": null,
            "_view_module": "@jupyter-widgets/base",
            "_view_module_version": "1.2.0",
            "_view_name": "StyleView",
            "description_width": ""
          }
        },
        "e3913b90238844ad8f500fd053e91c33": {
          "model_module": "@jupyter-widgets/base",
          "model_name": "LayoutModel",
          "model_module_version": "1.2.0",
          "state": {
            "_model_module": "@jupyter-widgets/base",
            "_model_module_version": "1.2.0",
            "_model_name": "LayoutModel",
            "_view_count": null,
            "_view_module": "@jupyter-widgets/base",
            "_view_module_version": "1.2.0",
            "_view_name": "LayoutView",
            "align_content": null,
            "align_items": null,
            "align_self": null,
            "border": null,
            "bottom": null,
            "display": null,
            "flex": null,
            "flex_flow": null,
            "grid_area": null,
            "grid_auto_columns": null,
            "grid_auto_flow": null,
            "grid_auto_rows": null,
            "grid_column": null,
            "grid_gap": null,
            "grid_row": null,
            "grid_template_areas": null,
            "grid_template_columns": null,
            "grid_template_rows": null,
            "height": null,
            "justify_content": null,
            "justify_items": null,
            "left": null,
            "margin": null,
            "max_height": null,
            "max_width": null,
            "min_height": null,
            "min_width": null,
            "object_fit": null,
            "object_position": null,
            "order": null,
            "overflow": null,
            "overflow_x": null,
            "overflow_y": null,
            "padding": null,
            "right": null,
            "top": null,
            "visibility": null,
            "width": null
          }
        },
        "fa90f91025214db4a5f974644e0c0e95": {
          "model_module": "@jupyter-widgets/controls",
          "model_name": "ProgressStyleModel",
          "model_module_version": "1.5.0",
          "state": {
            "_model_module": "@jupyter-widgets/controls",
            "_model_module_version": "1.5.0",
            "_model_name": "ProgressStyleModel",
            "_view_count": null,
            "_view_module": "@jupyter-widgets/base",
            "_view_module_version": "1.2.0",
            "_view_name": "StyleView",
            "bar_color": null,
            "description_width": ""
          }
        },
        "8246fd20f04d4f1791e55a7484284bca": {
          "model_module": "@jupyter-widgets/base",
          "model_name": "LayoutModel",
          "model_module_version": "1.2.0",
          "state": {
            "_model_module": "@jupyter-widgets/base",
            "_model_module_version": "1.2.0",
            "_model_name": "LayoutModel",
            "_view_count": null,
            "_view_module": "@jupyter-widgets/base",
            "_view_module_version": "1.2.0",
            "_view_name": "LayoutView",
            "align_content": null,
            "align_items": null,
            "align_self": null,
            "border": null,
            "bottom": null,
            "display": null,
            "flex": null,
            "flex_flow": null,
            "grid_area": null,
            "grid_auto_columns": null,
            "grid_auto_flow": null,
            "grid_auto_rows": null,
            "grid_column": null,
            "grid_gap": null,
            "grid_row": null,
            "grid_template_areas": null,
            "grid_template_columns": null,
            "grid_template_rows": null,
            "height": null,
            "justify_content": null,
            "justify_items": null,
            "left": null,
            "margin": null,
            "max_height": null,
            "max_width": null,
            "min_height": null,
            "min_width": null,
            "object_fit": null,
            "object_position": null,
            "order": null,
            "overflow": null,
            "overflow_x": null,
            "overflow_y": null,
            "padding": null,
            "right": null,
            "top": null,
            "visibility": null,
            "width": null
          }
        },
        "f97abadf557644bf9a95b7a2450bb5b5": {
          "model_module": "@jupyter-widgets/controls",
          "model_name": "DescriptionStyleModel",
          "model_module_version": "1.5.0",
          "state": {
            "_model_module": "@jupyter-widgets/controls",
            "_model_module_version": "1.5.0",
            "_model_name": "DescriptionStyleModel",
            "_view_count": null,
            "_view_module": "@jupyter-widgets/base",
            "_view_module_version": "1.2.0",
            "_view_name": "StyleView",
            "description_width": ""
          }
        },
        "3ef57362a73944e989de2dc2e06375d1": {
          "model_module": "@jupyter-widgets/controls",
          "model_name": "HBoxModel",
          "model_module_version": "1.5.0",
          "state": {
            "_dom_classes": [],
            "_model_module": "@jupyter-widgets/controls",
            "_model_module_version": "1.5.0",
            "_model_name": "HBoxModel",
            "_view_count": null,
            "_view_module": "@jupyter-widgets/controls",
            "_view_module_version": "1.5.0",
            "_view_name": "HBoxView",
            "box_style": "",
            "children": [
              "IPY_MODEL_ea0fc424310c470982b3fbfc8489e9bf",
              "IPY_MODEL_68ca2ecd337d4b24b96dcf07d1ca10e0",
              "IPY_MODEL_fc01f47f605a4b32acbf01dc8477a801"
            ],
            "layout": "IPY_MODEL_1baf3d5700e3457caabca06d2321bba5"
          }
        },
        "ea0fc424310c470982b3fbfc8489e9bf": {
          "model_module": "@jupyter-widgets/controls",
          "model_name": "HTMLModel",
          "model_module_version": "1.5.0",
          "state": {
            "_dom_classes": [],
            "_model_module": "@jupyter-widgets/controls",
            "_model_module_version": "1.5.0",
            "_model_name": "HTMLModel",
            "_view_count": null,
            "_view_module": "@jupyter-widgets/controls",
            "_view_module_version": "1.5.0",
            "_view_name": "HTMLView",
            "description": "",
            "description_tooltip": null,
            "layout": "IPY_MODEL_236e2d6d29a6409291470021a18ddf14",
            "placeholder": "​",
            "style": "IPY_MODEL_ab912a82628a4c5eaa2c0be64a056e95",
            "value": "pytorch_model.bin: 100%"
          }
        },
        "68ca2ecd337d4b24b96dcf07d1ca10e0": {
          "model_module": "@jupyter-widgets/controls",
          "model_name": "FloatProgressModel",
          "model_module_version": "1.5.0",
          "state": {
            "_dom_classes": [],
            "_model_module": "@jupyter-widgets/controls",
            "_model_module_version": "1.5.0",
            "_model_name": "FloatProgressModel",
            "_view_count": null,
            "_view_module": "@jupyter-widgets/controls",
            "_view_module_version": "1.5.0",
            "_view_name": "ProgressView",
            "bar_style": "success",
            "description": "",
            "description_tooltip": null,
            "layout": "IPY_MODEL_4e07095f62ac484ca4c935e6bc347f2f",
            "max": 174524210,
            "min": 0,
            "orientation": "horizontal",
            "style": "IPY_MODEL_3405b001ea9f47e4856786425926569e",
            "value": 174524210
          }
        },
        "fc01f47f605a4b32acbf01dc8477a801": {
          "model_module": "@jupyter-widgets/controls",
          "model_name": "HTMLModel",
          "model_module_version": "1.5.0",
          "state": {
            "_dom_classes": [],
            "_model_module": "@jupyter-widgets/controls",
            "_model_module_version": "1.5.0",
            "_model_name": "HTMLModel",
            "_view_count": null,
            "_view_module": "@jupyter-widgets/controls",
            "_view_module_version": "1.5.0",
            "_view_name": "HTMLView",
            "description": "",
            "description_tooltip": null,
            "layout": "IPY_MODEL_a50860ed31254284a00bb793f83e85bd",
            "placeholder": "​",
            "style": "IPY_MODEL_19709d34c51b4449bb8991d2a9be58d7",
            "value": " 175M/175M [00:03&lt;00:00, 80.8MB/s]"
          }
        },
        "1baf3d5700e3457caabca06d2321bba5": {
          "model_module": "@jupyter-widgets/base",
          "model_name": "LayoutModel",
          "model_module_version": "1.2.0",
          "state": {
            "_model_module": "@jupyter-widgets/base",
            "_model_module_version": "1.2.0",
            "_model_name": "LayoutModel",
            "_view_count": null,
            "_view_module": "@jupyter-widgets/base",
            "_view_module_version": "1.2.0",
            "_view_name": "LayoutView",
            "align_content": null,
            "align_items": null,
            "align_self": null,
            "border": null,
            "bottom": null,
            "display": null,
            "flex": null,
            "flex_flow": null,
            "grid_area": null,
            "grid_auto_columns": null,
            "grid_auto_flow": null,
            "grid_auto_rows": null,
            "grid_column": null,
            "grid_gap": null,
            "grid_row": null,
            "grid_template_areas": null,
            "grid_template_columns": null,
            "grid_template_rows": null,
            "height": null,
            "justify_content": null,
            "justify_items": null,
            "left": null,
            "margin": null,
            "max_height": null,
            "max_width": null,
            "min_height": null,
            "min_width": null,
            "object_fit": null,
            "object_position": null,
            "order": null,
            "overflow": null,
            "overflow_x": null,
            "overflow_y": null,
            "padding": null,
            "right": null,
            "top": null,
            "visibility": null,
            "width": null
          }
        },
        "236e2d6d29a6409291470021a18ddf14": {
          "model_module": "@jupyter-widgets/base",
          "model_name": "LayoutModel",
          "model_module_version": "1.2.0",
          "state": {
            "_model_module": "@jupyter-widgets/base",
            "_model_module_version": "1.2.0",
            "_model_name": "LayoutModel",
            "_view_count": null,
            "_view_module": "@jupyter-widgets/base",
            "_view_module_version": "1.2.0",
            "_view_name": "LayoutView",
            "align_content": null,
            "align_items": null,
            "align_self": null,
            "border": null,
            "bottom": null,
            "display": null,
            "flex": null,
            "flex_flow": null,
            "grid_area": null,
            "grid_auto_columns": null,
            "grid_auto_flow": null,
            "grid_auto_rows": null,
            "grid_column": null,
            "grid_gap": null,
            "grid_row": null,
            "grid_template_areas": null,
            "grid_template_columns": null,
            "grid_template_rows": null,
            "height": null,
            "justify_content": null,
            "justify_items": null,
            "left": null,
            "margin": null,
            "max_height": null,
            "max_width": null,
            "min_height": null,
            "min_width": null,
            "object_fit": null,
            "object_position": null,
            "order": null,
            "overflow": null,
            "overflow_x": null,
            "overflow_y": null,
            "padding": null,
            "right": null,
            "top": null,
            "visibility": null,
            "width": null
          }
        },
        "ab912a82628a4c5eaa2c0be64a056e95": {
          "model_module": "@jupyter-widgets/controls",
          "model_name": "DescriptionStyleModel",
          "model_module_version": "1.5.0",
          "state": {
            "_model_module": "@jupyter-widgets/controls",
            "_model_module_version": "1.5.0",
            "_model_name": "DescriptionStyleModel",
            "_view_count": null,
            "_view_module": "@jupyter-widgets/base",
            "_view_module_version": "1.2.0",
            "_view_name": "StyleView",
            "description_width": ""
          }
        },
        "4e07095f62ac484ca4c935e6bc347f2f": {
          "model_module": "@jupyter-widgets/base",
          "model_name": "LayoutModel",
          "model_module_version": "1.2.0",
          "state": {
            "_model_module": "@jupyter-widgets/base",
            "_model_module_version": "1.2.0",
            "_model_name": "LayoutModel",
            "_view_count": null,
            "_view_module": "@jupyter-widgets/base",
            "_view_module_version": "1.2.0",
            "_view_name": "LayoutView",
            "align_content": null,
            "align_items": null,
            "align_self": null,
            "border": null,
            "bottom": null,
            "display": null,
            "flex": null,
            "flex_flow": null,
            "grid_area": null,
            "grid_auto_columns": null,
            "grid_auto_flow": null,
            "grid_auto_rows": null,
            "grid_column": null,
            "grid_gap": null,
            "grid_row": null,
            "grid_template_areas": null,
            "grid_template_columns": null,
            "grid_template_rows": null,
            "height": null,
            "justify_content": null,
            "justify_items": null,
            "left": null,
            "margin": null,
            "max_height": null,
            "max_width": null,
            "min_height": null,
            "min_width": null,
            "object_fit": null,
            "object_position": null,
            "order": null,
            "overflow": null,
            "overflow_x": null,
            "overflow_y": null,
            "padding": null,
            "right": null,
            "top": null,
            "visibility": null,
            "width": null
          }
        },
        "3405b001ea9f47e4856786425926569e": {
          "model_module": "@jupyter-widgets/controls",
          "model_name": "ProgressStyleModel",
          "model_module_version": "1.5.0",
          "state": {
            "_model_module": "@jupyter-widgets/controls",
            "_model_module_version": "1.5.0",
            "_model_name": "ProgressStyleModel",
            "_view_count": null,
            "_view_module": "@jupyter-widgets/base",
            "_view_module_version": "1.2.0",
            "_view_name": "StyleView",
            "bar_color": null,
            "description_width": ""
          }
        },
        "a50860ed31254284a00bb793f83e85bd": {
          "model_module": "@jupyter-widgets/base",
          "model_name": "LayoutModel",
          "model_module_version": "1.2.0",
          "state": {
            "_model_module": "@jupyter-widgets/base",
            "_model_module_version": "1.2.0",
            "_model_name": "LayoutModel",
            "_view_count": null,
            "_view_module": "@jupyter-widgets/base",
            "_view_module_version": "1.2.0",
            "_view_name": "LayoutView",
            "align_content": null,
            "align_items": null,
            "align_self": null,
            "border": null,
            "bottom": null,
            "display": null,
            "flex": null,
            "flex_flow": null,
            "grid_area": null,
            "grid_auto_columns": null,
            "grid_auto_flow": null,
            "grid_auto_rows": null,
            "grid_column": null,
            "grid_gap": null,
            "grid_row": null,
            "grid_template_areas": null,
            "grid_template_columns": null,
            "grid_template_rows": null,
            "height": null,
            "justify_content": null,
            "justify_items": null,
            "left": null,
            "margin": null,
            "max_height": null,
            "max_width": null,
            "min_height": null,
            "min_width": null,
            "object_fit": null,
            "object_position": null,
            "order": null,
            "overflow": null,
            "overflow_x": null,
            "overflow_y": null,
            "padding": null,
            "right": null,
            "top": null,
            "visibility": null,
            "width": null
          }
        },
        "19709d34c51b4449bb8991d2a9be58d7": {
          "model_module": "@jupyter-widgets/controls",
          "model_name": "DescriptionStyleModel",
          "model_module_version": "1.5.0",
          "state": {
            "_model_module": "@jupyter-widgets/controls",
            "_model_module_version": "1.5.0",
            "_model_name": "DescriptionStyleModel",
            "_view_count": null,
            "_view_module": "@jupyter-widgets/base",
            "_view_module_version": "1.2.0",
            "_view_name": "StyleView",
            "description_width": ""
          }
        },
        "8875174bb0534da0ab4323d39522bc51": {
          "model_module": "@jupyter-widgets/controls",
          "model_name": "HBoxModel",
          "model_module_version": "1.5.0",
          "state": {
            "_dom_classes": [],
            "_model_module": "@jupyter-widgets/controls",
            "_model_module_version": "1.5.0",
            "_model_name": "HBoxModel",
            "_view_count": null,
            "_view_module": "@jupyter-widgets/controls",
            "_view_module_version": "1.5.0",
            "_view_name": "HBoxView",
            "box_style": "",
            "children": [
              "IPY_MODEL_744d31ed09aa4a18a59a9472559b883a",
              "IPY_MODEL_da566a6752aa44dab1b7115c3db25ffb",
              "IPY_MODEL_f7fe29c7ec8a4dfa9541fdaad30a41be"
            ],
            "layout": "IPY_MODEL_f20951aa3d204eb295c3afe0133b01f6"
          }
        },
        "744d31ed09aa4a18a59a9472559b883a": {
          "model_module": "@jupyter-widgets/controls",
          "model_name": "HTMLModel",
          "model_module_version": "1.5.0",
          "state": {
            "_dom_classes": [],
            "_model_module": "@jupyter-widgets/controls",
            "_model_module_version": "1.5.0",
            "_model_name": "HTMLModel",
            "_view_count": null,
            "_view_module": "@jupyter-widgets/controls",
            "_view_module_version": "1.5.0",
            "_view_name": "HTMLView",
            "description": "",
            "description_tooltip": null,
            "layout": "IPY_MODEL_9baf5d1e7ab54a2a882770fe7b424d46",
            "placeholder": "​",
            "style": "IPY_MODEL_c4726cbecf2142ebb861ba66eec051be",
            "value": "model.safetensors: 100%"
          }
        },
        "da566a6752aa44dab1b7115c3db25ffb": {
          "model_module": "@jupyter-widgets/controls",
          "model_name": "FloatProgressModel",
          "model_module_version": "1.5.0",
          "state": {
            "_dom_classes": [],
            "_model_module": "@jupyter-widgets/controls",
            "_model_module_version": "1.5.0",
            "_model_name": "FloatProgressModel",
            "_view_count": null,
            "_view_module": "@jupyter-widgets/controls",
            "_view_module_version": "1.5.0",
            "_view_name": "ProgressView",
            "bar_style": "success",
            "description": "",
            "description_tooltip": null,
            "layout": "IPY_MODEL_e4b5da17587d498bb2578cb282dcb0cb",
            "max": 174501616,
            "min": 0,
            "orientation": "horizontal",
            "style": "IPY_MODEL_8d6964df8f314ab7abe6adf04399b37f",
            "value": 174501616
          }
        },
        "f7fe29c7ec8a4dfa9541fdaad30a41be": {
          "model_module": "@jupyter-widgets/controls",
          "model_name": "HTMLModel",
          "model_module_version": "1.5.0",
          "state": {
            "_dom_classes": [],
            "_model_module": "@jupyter-widgets/controls",
            "_model_module_version": "1.5.0",
            "_model_name": "HTMLModel",
            "_view_count": null,
            "_view_module": "@jupyter-widgets/controls",
            "_view_module_version": "1.5.0",
            "_view_name": "HTMLView",
            "description": "",
            "description_tooltip": null,
            "layout": "IPY_MODEL_4b096769c9834193bc6f01f79cc01860",
            "placeholder": "​",
            "style": "IPY_MODEL_f199b8ce392144f3b795aaf344532405",
            "value": " 175M/175M [00:02&lt;00:00, 147MB/s]"
          }
        },
        "f20951aa3d204eb295c3afe0133b01f6": {
          "model_module": "@jupyter-widgets/base",
          "model_name": "LayoutModel",
          "model_module_version": "1.2.0",
          "state": {
            "_model_module": "@jupyter-widgets/base",
            "_model_module_version": "1.2.0",
            "_model_name": "LayoutModel",
            "_view_count": null,
            "_view_module": "@jupyter-widgets/base",
            "_view_module_version": "1.2.0",
            "_view_name": "LayoutView",
            "align_content": null,
            "align_items": null,
            "align_self": null,
            "border": null,
            "bottom": null,
            "display": null,
            "flex": null,
            "flex_flow": null,
            "grid_area": null,
            "grid_auto_columns": null,
            "grid_auto_flow": null,
            "grid_auto_rows": null,
            "grid_column": null,
            "grid_gap": null,
            "grid_row": null,
            "grid_template_areas": null,
            "grid_template_columns": null,
            "grid_template_rows": null,
            "height": null,
            "justify_content": null,
            "justify_items": null,
            "left": null,
            "margin": null,
            "max_height": null,
            "max_width": null,
            "min_height": null,
            "min_width": null,
            "object_fit": null,
            "object_position": null,
            "order": null,
            "overflow": null,
            "overflow_x": null,
            "overflow_y": null,
            "padding": null,
            "right": null,
            "top": null,
            "visibility": null,
            "width": null
          }
        },
        "9baf5d1e7ab54a2a882770fe7b424d46": {
          "model_module": "@jupyter-widgets/base",
          "model_name": "LayoutModel",
          "model_module_version": "1.2.0",
          "state": {
            "_model_module": "@jupyter-widgets/base",
            "_model_module_version": "1.2.0",
            "_model_name": "LayoutModel",
            "_view_count": null,
            "_view_module": "@jupyter-widgets/base",
            "_view_module_version": "1.2.0",
            "_view_name": "LayoutView",
            "align_content": null,
            "align_items": null,
            "align_self": null,
            "border": null,
            "bottom": null,
            "display": null,
            "flex": null,
            "flex_flow": null,
            "grid_area": null,
            "grid_auto_columns": null,
            "grid_auto_flow": null,
            "grid_auto_rows": null,
            "grid_column": null,
            "grid_gap": null,
            "grid_row": null,
            "grid_template_areas": null,
            "grid_template_columns": null,
            "grid_template_rows": null,
            "height": null,
            "justify_content": null,
            "justify_items": null,
            "left": null,
            "margin": null,
            "max_height": null,
            "max_width": null,
            "min_height": null,
            "min_width": null,
            "object_fit": null,
            "object_position": null,
            "order": null,
            "overflow": null,
            "overflow_x": null,
            "overflow_y": null,
            "padding": null,
            "right": null,
            "top": null,
            "visibility": null,
            "width": null
          }
        },
        "c4726cbecf2142ebb861ba66eec051be": {
          "model_module": "@jupyter-widgets/controls",
          "model_name": "DescriptionStyleModel",
          "model_module_version": "1.5.0",
          "state": {
            "_model_module": "@jupyter-widgets/controls",
            "_model_module_version": "1.5.0",
            "_model_name": "DescriptionStyleModel",
            "_view_count": null,
            "_view_module": "@jupyter-widgets/base",
            "_view_module_version": "1.2.0",
            "_view_name": "StyleView",
            "description_width": ""
          }
        },
        "e4b5da17587d498bb2578cb282dcb0cb": {
          "model_module": "@jupyter-widgets/base",
          "model_name": "LayoutModel",
          "model_module_version": "1.2.0",
          "state": {
            "_model_module": "@jupyter-widgets/base",
            "_model_module_version": "1.2.0",
            "_model_name": "LayoutModel",
            "_view_count": null,
            "_view_module": "@jupyter-widgets/base",
            "_view_module_version": "1.2.0",
            "_view_name": "LayoutView",
            "align_content": null,
            "align_items": null,
            "align_self": null,
            "border": null,
            "bottom": null,
            "display": null,
            "flex": null,
            "flex_flow": null,
            "grid_area": null,
            "grid_auto_columns": null,
            "grid_auto_flow": null,
            "grid_auto_rows": null,
            "grid_column": null,
            "grid_gap": null,
            "grid_row": null,
            "grid_template_areas": null,
            "grid_template_columns": null,
            "grid_template_rows": null,
            "height": null,
            "justify_content": null,
            "justify_items": null,
            "left": null,
            "margin": null,
            "max_height": null,
            "max_width": null,
            "min_height": null,
            "min_width": null,
            "object_fit": null,
            "object_position": null,
            "order": null,
            "overflow": null,
            "overflow_x": null,
            "overflow_y": null,
            "padding": null,
            "right": null,
            "top": null,
            "visibility": null,
            "width": null
          }
        },
        "8d6964df8f314ab7abe6adf04399b37f": {
          "model_module": "@jupyter-widgets/controls",
          "model_name": "ProgressStyleModel",
          "model_module_version": "1.5.0",
          "state": {
            "_model_module": "@jupyter-widgets/controls",
            "_model_module_version": "1.5.0",
            "_model_name": "ProgressStyleModel",
            "_view_count": null,
            "_view_module": "@jupyter-widgets/base",
            "_view_module_version": "1.2.0",
            "_view_name": "StyleView",
            "bar_color": null,
            "description_width": ""
          }
        },
        "4b096769c9834193bc6f01f79cc01860": {
          "model_module": "@jupyter-widgets/base",
          "model_name": "LayoutModel",
          "model_module_version": "1.2.0",
          "state": {
            "_model_module": "@jupyter-widgets/base",
            "_model_module_version": "1.2.0",
            "_model_name": "LayoutModel",
            "_view_count": null,
            "_view_module": "@jupyter-widgets/base",
            "_view_module_version": "1.2.0",
            "_view_name": "LayoutView",
            "align_content": null,
            "align_items": null,
            "align_self": null,
            "border": null,
            "bottom": null,
            "display": null,
            "flex": null,
            "flex_flow": null,
            "grid_area": null,
            "grid_auto_columns": null,
            "grid_auto_flow": null,
            "grid_auto_rows": null,
            "grid_column": null,
            "grid_gap": null,
            "grid_row": null,
            "grid_template_areas": null,
            "grid_template_columns": null,
            "grid_template_rows": null,
            "height": null,
            "justify_content": null,
            "justify_items": null,
            "left": null,
            "margin": null,
            "max_height": null,
            "max_width": null,
            "min_height": null,
            "min_width": null,
            "object_fit": null,
            "object_position": null,
            "order": null,
            "overflow": null,
            "overflow_x": null,
            "overflow_y": null,
            "padding": null,
            "right": null,
            "top": null,
            "visibility": null,
            "width": null
          }
        },
        "f199b8ce392144f3b795aaf344532405": {
          "model_module": "@jupyter-widgets/controls",
          "model_name": "DescriptionStyleModel",
          "model_module_version": "1.5.0",
          "state": {
            "_model_module": "@jupyter-widgets/controls",
            "_model_module_version": "1.5.0",
            "_model_name": "DescriptionStyleModel",
            "_view_count": null,
            "_view_module": "@jupyter-widgets/base",
            "_view_module_version": "1.2.0",
            "_view_name": "StyleView",
            "description_width": ""
          }
        },
        "7f8668f4223d4dfa923112b00b0fb7d8": {
          "model_module": "@jupyter-widgets/controls",
          "model_name": "HBoxModel",
          "model_module_version": "1.5.0",
          "state": {
            "_dom_classes": [],
            "_model_module": "@jupyter-widgets/controls",
            "_model_module_version": "1.5.0",
            "_model_name": "HBoxModel",
            "_view_count": null,
            "_view_module": "@jupyter-widgets/controls",
            "_view_module_version": "1.5.0",
            "_view_name": "HBoxView",
            "box_style": "",
            "children": [
              "IPY_MODEL_901f6dd179d6447d876bc4e6415f4383",
              "IPY_MODEL_ff9e0733e3aa40ae9d5b1be1c1c7db41",
              "IPY_MODEL_6338006cb15e4451a35fb9e8d5d4fc5c"
            ],
            "layout": "IPY_MODEL_9a91000d79024d5c92348e0511db0d3f"
          }
        },
        "901f6dd179d6447d876bc4e6415f4383": {
          "model_module": "@jupyter-widgets/controls",
          "model_name": "HTMLModel",
          "model_module_version": "1.5.0",
          "state": {
            "_dom_classes": [],
            "_model_module": "@jupyter-widgets/controls",
            "_model_module_version": "1.5.0",
            "_model_name": "HTMLModel",
            "_view_count": null,
            "_view_module": "@jupyter-widgets/controls",
            "_view_module_version": "1.5.0",
            "_view_name": "HTMLView",
            "description": "",
            "description_tooltip": null,
            "layout": "IPY_MODEL_9b22c0ca620345169a66165ec9e59be2",
            "placeholder": "​",
            "style": "IPY_MODEL_d1571c87990041df88250b858e3233af",
            "value": "Best trial: 21. Best value: 0.567694:  64%"
          }
        },
        "ff9e0733e3aa40ae9d5b1be1c1c7db41": {
          "model_module": "@jupyter-widgets/controls",
          "model_name": "FloatProgressModel",
          "model_module_version": "1.5.0",
          "state": {
            "_dom_classes": [],
            "_model_module": "@jupyter-widgets/controls",
            "_model_module_version": "1.5.0",
            "_model_name": "FloatProgressModel",
            "_view_count": null,
            "_view_module": "@jupyter-widgets/controls",
            "_view_module_version": "1.5.0",
            "_view_name": "ProgressView",
            "bar_style": "danger",
            "description": "",
            "description_tooltip": null,
            "layout": "IPY_MODEL_6a7dc899b7984d719b3c39ceafdd3733",
            "max": 50,
            "min": 0,
            "orientation": "horizontal",
            "style": "IPY_MODEL_eab59b0b19244b359d1af3782147020e",
            "value": 32
          }
        },
        "6338006cb15e4451a35fb9e8d5d4fc5c": {
          "model_module": "@jupyter-widgets/controls",
          "model_name": "HTMLModel",
          "model_module_version": "1.5.0",
          "state": {
            "_dom_classes": [],
            "_model_module": "@jupyter-widgets/controls",
            "_model_module_version": "1.5.0",
            "_model_name": "HTMLModel",
            "_view_count": null,
            "_view_module": "@jupyter-widgets/controls",
            "_view_module_version": "1.5.0",
            "_view_name": "HTMLView",
            "description": "",
            "description_tooltip": null,
            "layout": "IPY_MODEL_c8f8e76c77164592b0ce05056a4ddbc1",
            "placeholder": "​",
            "style": "IPY_MODEL_1e42c91bccb0458fa9366dc3f733fa9c",
            "value": " 32/50 [05:28&lt;02:37,  8.77s/it]"
          }
        },
        "9a91000d79024d5c92348e0511db0d3f": {
          "model_module": "@jupyter-widgets/base",
          "model_name": "LayoutModel",
          "model_module_version": "1.2.0",
          "state": {
            "_model_module": "@jupyter-widgets/base",
            "_model_module_version": "1.2.0",
            "_model_name": "LayoutModel",
            "_view_count": null,
            "_view_module": "@jupyter-widgets/base",
            "_view_module_version": "1.2.0",
            "_view_name": "LayoutView",
            "align_content": null,
            "align_items": null,
            "align_self": null,
            "border": null,
            "bottom": null,
            "display": null,
            "flex": null,
            "flex_flow": null,
            "grid_area": null,
            "grid_auto_columns": null,
            "grid_auto_flow": null,
            "grid_auto_rows": null,
            "grid_column": null,
            "grid_gap": null,
            "grid_row": null,
            "grid_template_areas": null,
            "grid_template_columns": null,
            "grid_template_rows": null,
            "height": null,
            "justify_content": null,
            "justify_items": null,
            "left": null,
            "margin": null,
            "max_height": null,
            "max_width": null,
            "min_height": null,
            "min_width": null,
            "object_fit": null,
            "object_position": null,
            "order": null,
            "overflow": null,
            "overflow_x": null,
            "overflow_y": null,
            "padding": null,
            "right": null,
            "top": null,
            "visibility": null,
            "width": null
          }
        },
        "9b22c0ca620345169a66165ec9e59be2": {
          "model_module": "@jupyter-widgets/base",
          "model_name": "LayoutModel",
          "model_module_version": "1.2.0",
          "state": {
            "_model_module": "@jupyter-widgets/base",
            "_model_module_version": "1.2.0",
            "_model_name": "LayoutModel",
            "_view_count": null,
            "_view_module": "@jupyter-widgets/base",
            "_view_module_version": "1.2.0",
            "_view_name": "LayoutView",
            "align_content": null,
            "align_items": null,
            "align_self": null,
            "border": null,
            "bottom": null,
            "display": null,
            "flex": null,
            "flex_flow": null,
            "grid_area": null,
            "grid_auto_columns": null,
            "grid_auto_flow": null,
            "grid_auto_rows": null,
            "grid_column": null,
            "grid_gap": null,
            "grid_row": null,
            "grid_template_areas": null,
            "grid_template_columns": null,
            "grid_template_rows": null,
            "height": null,
            "justify_content": null,
            "justify_items": null,
            "left": null,
            "margin": null,
            "max_height": null,
            "max_width": null,
            "min_height": null,
            "min_width": null,
            "object_fit": null,
            "object_position": null,
            "order": null,
            "overflow": null,
            "overflow_x": null,
            "overflow_y": null,
            "padding": null,
            "right": null,
            "top": null,
            "visibility": null,
            "width": null
          }
        },
        "d1571c87990041df88250b858e3233af": {
          "model_module": "@jupyter-widgets/controls",
          "model_name": "DescriptionStyleModel",
          "model_module_version": "1.5.0",
          "state": {
            "_model_module": "@jupyter-widgets/controls",
            "_model_module_version": "1.5.0",
            "_model_name": "DescriptionStyleModel",
            "_view_count": null,
            "_view_module": "@jupyter-widgets/base",
            "_view_module_version": "1.2.0",
            "_view_name": "StyleView",
            "description_width": ""
          }
        },
        "6a7dc899b7984d719b3c39ceafdd3733": {
          "model_module": "@jupyter-widgets/base",
          "model_name": "LayoutModel",
          "model_module_version": "1.2.0",
          "state": {
            "_model_module": "@jupyter-widgets/base",
            "_model_module_version": "1.2.0",
            "_model_name": "LayoutModel",
            "_view_count": null,
            "_view_module": "@jupyter-widgets/base",
            "_view_module_version": "1.2.0",
            "_view_name": "LayoutView",
            "align_content": null,
            "align_items": null,
            "align_self": null,
            "border": null,
            "bottom": null,
            "display": null,
            "flex": null,
            "flex_flow": null,
            "grid_area": null,
            "grid_auto_columns": null,
            "grid_auto_flow": null,
            "grid_auto_rows": null,
            "grid_column": null,
            "grid_gap": null,
            "grid_row": null,
            "grid_template_areas": null,
            "grid_template_columns": null,
            "grid_template_rows": null,
            "height": null,
            "justify_content": null,
            "justify_items": null,
            "left": null,
            "margin": null,
            "max_height": null,
            "max_width": null,
            "min_height": null,
            "min_width": null,
            "object_fit": null,
            "object_position": null,
            "order": null,
            "overflow": null,
            "overflow_x": null,
            "overflow_y": null,
            "padding": null,
            "right": null,
            "top": null,
            "visibility": null,
            "width": null
          }
        },
        "eab59b0b19244b359d1af3782147020e": {
          "model_module": "@jupyter-widgets/controls",
          "model_name": "ProgressStyleModel",
          "model_module_version": "1.5.0",
          "state": {
            "_model_module": "@jupyter-widgets/controls",
            "_model_module_version": "1.5.0",
            "_model_name": "ProgressStyleModel",
            "_view_count": null,
            "_view_module": "@jupyter-widgets/base",
            "_view_module_version": "1.2.0",
            "_view_name": "StyleView",
            "bar_color": null,
            "description_width": ""
          }
        },
        "c8f8e76c77164592b0ce05056a4ddbc1": {
          "model_module": "@jupyter-widgets/base",
          "model_name": "LayoutModel",
          "model_module_version": "1.2.0",
          "state": {
            "_model_module": "@jupyter-widgets/base",
            "_model_module_version": "1.2.0",
            "_model_name": "LayoutModel",
            "_view_count": null,
            "_view_module": "@jupyter-widgets/base",
            "_view_module_version": "1.2.0",
            "_view_name": "LayoutView",
            "align_content": null,
            "align_items": null,
            "align_self": null,
            "border": null,
            "bottom": null,
            "display": null,
            "flex": null,
            "flex_flow": null,
            "grid_area": null,
            "grid_auto_columns": null,
            "grid_auto_flow": null,
            "grid_auto_rows": null,
            "grid_column": null,
            "grid_gap": null,
            "grid_row": null,
            "grid_template_areas": null,
            "grid_template_columns": null,
            "grid_template_rows": null,
            "height": null,
            "justify_content": null,
            "justify_items": null,
            "left": null,
            "margin": null,
            "max_height": null,
            "max_width": null,
            "min_height": null,
            "min_width": null,
            "object_fit": null,
            "object_position": null,
            "order": null,
            "overflow": null,
            "overflow_x": null,
            "overflow_y": null,
            "padding": null,
            "right": null,
            "top": null,
            "visibility": null,
            "width": null
          }
        },
        "1e42c91bccb0458fa9366dc3f733fa9c": {
          "model_module": "@jupyter-widgets/controls",
          "model_name": "DescriptionStyleModel",
          "model_module_version": "1.5.0",
          "state": {
            "_model_module": "@jupyter-widgets/controls",
            "_model_module_version": "1.5.0",
            "_model_name": "DescriptionStyleModel",
            "_view_count": null,
            "_view_module": "@jupyter-widgets/base",
            "_view_module_version": "1.2.0",
            "_view_name": "StyleView",
            "description_width": ""
          }
        }
      }
    }
  },
  "nbformat": 4,
  "nbformat_minor": 5
}